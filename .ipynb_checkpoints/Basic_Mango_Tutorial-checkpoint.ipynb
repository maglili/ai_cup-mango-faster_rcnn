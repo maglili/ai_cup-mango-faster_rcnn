{
 "cells": [
  {
   "cell_type": "markdown",
   "metadata": {},
   "source": [
    "# AI CUP 2020 [愛文芒果不良品分類競賽](https://aidea-web.tw/topic/fee8b6d6-dbd1-4794-a091-fa2ad829ea14) \n",
    "\n",
    "> This tutorial only provides **toy data**, please download **full data** from the official website, and put them in the corresponding path.\n",
    "\n",
    "This is a multi-label classification task, each image may contain mulitple types (can either be same or different) of defective. \n",
    "This document contains 3 parts:\n",
    "1. **Data format** introduction\n",
    "2. **Data preprocessing** example\n",
    "3. A *simple* **baseline** (ML base) example, official baseline are also provided as pdf file\n",
    "4. More about **Development** and **Evaluation** "
   ]
  },
  {
   "cell_type": "markdown",
   "metadata": {},
   "source": [
    "## 1. Data Format\n",
    "* There are **Training** data and **Development** data, all data is under the directory **./C2_TrainDev_Toy/**\n",
    "* Image files are under **./C2_TrainDev_Toy/Train/** and **./C2_TrainDev_Toy/Dev/**, all images are in **.jpg** format\n",
    "* Label files are under **./C2_TrainDev_Toy/**, both **training** and **dev** data are in **.csv** format"
   ]
  },
  {
   "cell_type": "markdown",
   "metadata": {},
   "source": [
    "### 1.1 Image file\n",
    "Images size are usually 1280px * 720px (some of them are not)"
   ]
  },
  {
   "cell_type": "code",
   "execution_count": null,
   "metadata": {},
   "outputs": [],
   "source": [
    "from glob import glob\n",
    "import cv2\n",
    "import matplotlib.pyplot as plt\n",
    "plt.rc('font', family='serif', size=10)\n",
    "\n",
    "img_path = glob('./C2_TrainDev_Toy/Train/*.*')[-1]\n",
    "curr_img = cv2.cvtColor(cv2.imread(img_path), cv2.COLOR_BGR2RGB)\n",
    "plt.imshow(curr_img)"
   ]
  },
  {
   "cell_type": "markdown",
   "metadata": {},
   "source": [
    "### 1.2 Label file\n",
    "Each row represents one data, containing a **image id (path)** and single(or multiple) **defective bounding box information** (x, y coordinate, width, length, and its defective label)"
   ]
  },
  {
   "cell_type": "code",
   "execution_count": null,
   "metadata": {},
   "outputs": [],
   "source": [
    "import pandas as pd\n",
    "\n",
    "pd.read_csv('./C2_TrainDev_Toy/train.csv', header=None)\n",
    "pd.read_csv('./C2_TrainDev_Toy/dev.csv', header=None)"
   ]
  },
  {
   "cell_type": "markdown",
   "metadata": {},
   "source": [
    "## 2. Data Preprocessing \n",
    "This example shows a function loads the label file and turns it into 3 list data. We also random pick one data to draw its bounding box on the image."
   ]
  },
  {
   "cell_type": "markdown",
   "metadata": {},
   "source": [
    "### 2.1 load csv into list data"
   ]
  },
  {
   "cell_type": "code",
   "execution_count": null,
   "metadata": {},
   "outputs": [],
   "source": [
    "import re\n",
    "import numpy as np\n",
    "from matplotlib.font_manager import FontProperties\n",
    "font = FontProperties(fname='./ukai.ttc', size=12) # for showing chinese character\n",
    "\n",
    "def load_mango_csv(csv_path='./C2_TrainDev_Toy/train.csv'):\n",
    "    path = []\n",
    "    box = []\n",
    "    label = []\n",
    "    subdir = csv_path.split('/')[-1].split('.')[0].capitalize()\n",
    "    with open(csv_path, 'r', encoding='utf8') as f:        \n",
    "        for line in f:\n",
    "            clean_line = re.sub(',+\\n', '', line).replace('\\n', '').replace('\\ufeff', '').split(',')\n",
    "            curr_img_path = f'./C2_TrainDev_Toy/{subdir}/{clean_line[0]}'\n",
    "            curr_info = np.array(clean_line[1:]).reshape(-1, 5)\n",
    "            curr_box = curr_info[:, :-1].astype('float16').tolist()\n",
    "            curr_label = curr_info[:, -1].tolist()\n",
    "            path.append(curr_img_path)\n",
    "            box.append(curr_box)\n",
    "            label.append(curr_label)\n",
    "    return path, box, label\n",
    "\n",
    "path, box, label = load_mango_csv(csv_path='./C2_TrainDev_Toy/train.csv')\n",
    "\n",
    "# show first 3 data: its image path, bounding box, and label\n",
    "print(path[:3])\n",
    "print(box[:3])\n",
    "print(label[:3])"
   ]
  },
  {
   "cell_type": "markdown",
   "metadata": {},
   "source": [
    "### 2.2 draw bounding box on image"
   ]
  },
  {
   "cell_type": "code",
   "execution_count": null,
   "metadata": {},
   "outputs": [],
   "source": [
    "choose_idx = 0\n",
    "curr_path, curr_box, curr_label = path[choose_idx], box[choose_idx], label[choose_idx]\n",
    "curr_img = cv2.cvtColor(cv2.imread(curr_path), cv2.COLOR_BGR2RGB)\n",
    "\n",
    "for box in curr_box:\n",
    "    start_point = (int(box[0]), int(box[1]))\n",
    "    end_point = (int(box[0] + box[2]), int(box[1] + box[3]))\n",
    "    curr_img = cv2.rectangle(curr_img, start_point, end_point, (0, 255, 0), 3)\n",
    "\n",
    "plt.title([curr_box, curr_label], fontproperties=font)\n",
    "plt.imshow(curr_img)"
   ]
  },
  {
   "cell_type": "markdown",
   "metadata": {},
   "source": [
    "## 3. Baseline Method\n",
    "In this part, we will provide a **baseline** method which is *only* based on **image preprocessing**, **feature extraction** and **machine learning algorithms**. The result is pretty bad actually, so of course you may use more advanced algorithms (e.g. those for object detection, such as YOLO, FasterRCNN ...) but we will not provide more information or tutorials about that."
   ]
  },
  {
   "cell_type": "markdown",
   "metadata": {},
   "source": [
    "### 3.1 Pipeline\n",
    "\n",
    "1. Load training / development data\n",
    "2. Basic Image Preprocessing\n",
    "3. Use Histogram of Oriented Gradients (HOG) to extract feature\n",
    "4. Use ANOVA univariate feature selection to reduce feature dimension\n",
    "5. Feed the selected feature into a SVM model\n",
    "\n",
    "\n",
    "* Note:\n",
    "    * There are other Local features Descriptor such as SIFT, SURF, GLOH ...\n",
    "    * Here is a more advanced [example](https://medium.com/@liverungrow/sift-bag-of-features-svm-for-classification-b5f775d8e55f) using SIFT+SVM for image classification "
   ]
  },
  {
   "cell_type": "markdown",
   "metadata": {},
   "source": [
    "### 3.2 Full Sample Code\n",
    "Here we provide the code for a *complete* round of training and evaluating on a single defective type, you may use these code to help your development (or you want to write them yourself which is totally fine). Detailed explanation for each part of code is provided in the python script file.\n",
    "<br><br>\n",
    "\\* The following code refers to [this website](https://rpubs.com/Sharon_1684/454441)"
   ]
  },
  {
   "cell_type": "code",
   "execution_count": null,
   "metadata": {},
   "outputs": [],
   "source": [
    "from hog_anova_svm import *\n",
    "\n",
    "### Basic Usage ###\n",
    "defective_type = '不良-乳汁吸附'\n",
    "file_prefix = f'{defective_type.split(\"-\")[-1]}'\n",
    "HOG_ANOVA_SVM(file_prefix, defective_type, anova_percentile=5, slice_img=True, linear_svm=True)"
   ]
  },
  {
   "cell_type": "markdown",
   "metadata": {},
   "source": [
    "## 4. More about Development and Evaluation\n",
    "\n",
    "\n",
    "### 4.1 Development\n",
    "For those who choose this task as your project, here is where (or how) to try out this task:\n",
    "1. Use **google colab**, we will not provide GPU resource in this class.\n",
    "2. Download the dataset from official site and upload it to your **google cloud**.\n",
    "3. If you are lack of **google cloud storage** space, you can use a **gsuite** account.\n",
    "4. **Mount** your google cloud (or gsuite) to google colab, then you may use those data on google colab.\n",
    "5. Have Fun coding and modeling !!\n",
    "\n",
    "### 4.2 Evaluation\n",
    "And here is the grading criterion:\n",
    "1. You will need to handover your google colab code so that we can **retrain** your model from beginning to end (including data preprocessing) and perform additional **independent tests** using your retrained model. \n",
    "> Please note that training the model on colab may be interrupted (shutdown) due to too long training time. If this happens unfortunately, this homework will be scored as 0.\n",
    "\n",
    "2. Official leaderboard will be **available from 2020/12/31 to 2021/01/08**, part of final project score is based on the best score you get on the leaderboard."
   ]
  },
  {
   "cell_type": "code",
   "execution_count": null,
   "metadata": {},
   "outputs": [],
   "source": []
  },
  {
   "cell_type": "code",
   "execution_count": null,
   "metadata": {},
   "outputs": [],
   "source": []
  }
 ],
 "metadata": {
  "kernelspec": {
   "display_name": "Python 3",
   "language": "python",
   "name": "python3"
  },
  "language_info": {
   "codemirror_mode": {
    "name": "ipython",
    "version": 3
   },
   "file_extension": ".py",
   "mimetype": "text/x-python",
   "name": "python",
   "nbconvert_exporter": "python",
   "pygments_lexer": "ipython3",
   "version": "3.8.6"
  }
 },
 "nbformat": 4,
 "nbformat_minor": 4
}
