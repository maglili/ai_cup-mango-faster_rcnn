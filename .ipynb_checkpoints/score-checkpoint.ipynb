{
 "cells": [
  {
   "cell_type": "markdown",
   "metadata": {},
   "source": [
    "## Processing files"
   ]
  },
  {
   "cell_type": "code",
   "execution_count": null,
   "metadata": {},
   "outputs": [],
   "source": [
    "import numpy as np\n",
    "import pandas as pd\n",
    "class1=[]\n",
    "class2=[]\n",
    "class3=[]\n",
    "class4=[]\n",
    "class5=[]\n",
    "image=[]\n",
    "\n",
    "with open(r'.\\C2_TrainDev\\dev.csv', 'r', encoding='utf-8-sig') as fh:\n",
    "    for index,row in enumerate(fh):\n",
    "        row=row.strip()\n",
    "        row=row.split(',')\n",
    "        while True:\n",
    "            if '' in row:\n",
    "                row.remove('')\n",
    "            else:\n",
    "                break\n",
    "        #print(row)\n",
    "        aa=bb=cc=dd=ee=0\n",
    "        while len(row) > 1:\n",
    "            if row[5] == '不良-乳汁吸附':\n",
    "                aa = 1\n",
    "            elif row[5] == '不良-機械傷害':\n",
    "                bb = 1\n",
    "            elif row[5] == '不良-炭疽病':\n",
    "                cc = 1\n",
    "            elif row[5] == '不良-著色不佳':\n",
    "                dd = 1\n",
    "            elif row[5] == '不良-黑斑病':\n",
    "                    ee = 1\n",
    "            for idx in range(5):\n",
    "                row.remove(row[1]) \n",
    "                \n",
    "        if aa == 1:\n",
    "            class1.append(1)\n",
    "        else:\n",
    "            class1.append(0)\n",
    "\n",
    "        if bb == 1:\n",
    "            class2.append(1)\n",
    "        else:\n",
    "            class2.append(0)\n",
    "\n",
    "        if cc == 1:\n",
    "            class3.append(1)\n",
    "        else:\n",
    "            class3.append(0)\n",
    "\n",
    "        if dd == 1:\n",
    "            class4.append(1)\n",
    "        else:\n",
    "            class4.append(0)\n",
    "\n",
    "        if ee == 1:\n",
    "            class5.append(1)\n",
    "        else:\n",
    "            class5.append(0)       \n",
    "                \n",
    "        image.append(row[0])\n",
    "\n",
    "valid_ans= pd.DataFrame({'files':image,'不良-乳汁吸附':class1,'不良-機械傷害':class2, '不良-炭疽病':class3,  '不良-著色不佳':class4, '不良-黑斑病':class5 })\n",
    "valid_ans"
   ]
  },
  {
   "cell_type": "code",
   "execution_count": null,
   "metadata": {},
   "outputs": [],
   "source": [
    "valid_ans = valid_ans.sort_values(by=['files'])\n",
    "valid_ans"
   ]
  },
  {
   "cell_type": "code",
   "execution_count": null,
   "metadata": {},
   "outputs": [],
   "source": [
    "valid_ans.to_pickle(r\".\\C2_TrainDev\\valid_ans.pkl\")"
   ]
  },
  {
   "cell_type": "markdown",
   "metadata": {},
   "source": [
    "### call predict file"
   ]
  },
  {
   "cell_type": "code",
   "execution_count": null,
   "metadata": {},
   "outputs": [],
   "source": [
    "pred_df = pd.read_pickle(r\".\\C2_TrainDev\\pred_df.pkl\")\n",
    "pred_df"
   ]
  },
  {
   "cell_type": "markdown",
   "metadata": {},
   "source": [
    "## score"
   ]
  },
  {
   "cell_type": "markdown",
   "metadata": {},
   "source": [
    "### sum and average all f1"
   ]
  },
  {
   "cell_type": "code",
   "execution_count": null,
   "metadata": {},
   "outputs": [],
   "source": [
    "from sklearn.metrics import f1_score"
   ]
  },
  {
   "cell_type": "code",
   "execution_count": null,
   "metadata": {},
   "outputs": [],
   "source": [
    "y_true1 = valid_ans['不良-乳汁吸附']\n",
    "y_pred1 = pred_df['不良-乳汁吸附']\n",
    "f1_1 = f1_score(y_true1, y_pred1, average='micro')\n",
    "f1_1"
   ]
  },
  {
   "cell_type": "code",
   "execution_count": null,
   "metadata": {},
   "outputs": [],
   "source": [
    "y_true2 = valid_ans['不良-機械傷害']\n",
    "y_pred2 = pred_df['不良-機械傷害']\n",
    "f1_2 = f1_score(y_true2, y_pred2, average='micro')\n",
    "f1_2"
   ]
  },
  {
   "cell_type": "code",
   "execution_count": null,
   "metadata": {},
   "outputs": [],
   "source": [
    "y_true3 = valid_ans['不良-炭疽病']\n",
    "y_pred3 = pred_df['不良-炭疽病']\n",
    "f1_3 = f1_score(y_true3, y_pred3, average='micro')\n",
    "f1_3"
   ]
  },
  {
   "cell_type": "code",
   "execution_count": null,
   "metadata": {},
   "outputs": [],
   "source": [
    "y_true4 = valid_ans['不良-著色不佳']\n",
    "y_pred4 = pred_df['不良-著色不佳']\n",
    "f1_4 = f1_score(y_true4, y_pred4, average='micro')\n",
    "f1_4"
   ]
  },
  {
   "cell_type": "code",
   "execution_count": null,
   "metadata": {},
   "outputs": [],
   "source": [
    "y_true5 = valid_ans['不良-黑斑病']\n",
    "y_pred5 = pred_df['不良-黑斑病']\n",
    "f1_5 = f1_score(y_true5, y_pred5, average='micro')\n",
    "f1_5"
   ]
  },
  {
   "cell_type": "code",
   "execution_count": null,
   "metadata": {},
   "outputs": [],
   "source": [
    "f1_all = ( 5**(-1) ) * (f1_1 + f1_2 +f1_3 +f1_4 +f1_5)\n",
    "print(f1_all)"
   ]
  },
  {
   "cell_type": "markdown",
   "metadata": {},
   "source": [
    "### ai-cup offical way"
   ]
  },
  {
   "cell_type": "code",
   "execution_count": null,
   "metadata": {},
   "outputs": [],
   "source": [
    "from sklearn.metrics import precision_score\n",
    "from sklearn.metrics import recall_score"
   ]
  },
  {
   "cell_type": "code",
   "execution_count": null,
   "metadata": {},
   "outputs": [],
   "source": [
    "y_true1 = valid_ans['不良-乳汁吸附']\n",
    "y_pred1 = pred_df['不良-乳汁吸附']\n",
    "p1 = precision_score(y_true1, y_pred1, average='micro')\n",
    "r1 = recall_score(y_true1, y_pred1, average='micro')\n",
    "print('precission',p1)\n",
    "print('recall',r1)"
   ]
  },
  {
   "cell_type": "code",
   "execution_count": null,
   "metadata": {},
   "outputs": [],
   "source": [
    "y_true2 = valid_ans['不良-機械傷害']\n",
    "y_pred2 = pred_df['不良-機械傷害']\n",
    "p2 = precision_score(y_true2, y_pred2, average='micro')\n",
    "r2 = recall_score(y_true2, y_pred2, average='micro')\n",
    "print('precission',p2)\n",
    "print('recall',r2)"
   ]
  },
  {
   "cell_type": "code",
   "execution_count": null,
   "metadata": {},
   "outputs": [],
   "source": [
    "y_true3 = valid_ans['不良-炭疽病']\n",
    "y_pred3 = pred_df['不良-炭疽病']\n",
    "p3 = precision_score(y_true3, y_pred3, average='micro')\n",
    "r3 = recall_score(y_true3, y_pred3, average='micro')\n",
    "print('precission',p3)\n",
    "print('recall',r3)"
   ]
  },
  {
   "cell_type": "code",
   "execution_count": null,
   "metadata": {},
   "outputs": [],
   "source": [
    "y_true4 = valid_ans['不良-著色不佳']\n",
    "y_pred4 = pred_df['不良-著色不佳']\n",
    "p4 = precision_score(y_true4, y_pred4, average='micro')\n",
    "r4 = recall_score(y_true4, y_pred4, average='micro')\n",
    "print('precission',p4)\n",
    "print('recall',r4)"
   ]
  },
  {
   "cell_type": "code",
   "execution_count": null,
   "metadata": {},
   "outputs": [],
   "source": [
    "y_true5 = valid_ans['不良-黑斑病']\n",
    "y_pred5 = pred_df['不良-黑斑病']\n",
    "p5 = precision_score(y_true5, y_pred5, average='micro')\n",
    "r5 = recall_score(y_true5, y_pred5, average='micro')\n",
    "print('precission',p5)\n",
    "print('recall',r5)"
   ]
  },
  {
   "cell_type": "code",
   "execution_count": null,
   "metadata": {},
   "outputs": [],
   "source": [
    "p_ma = (5**(-1)) * (p1 + p2 + p3 + p4 + p5)\n",
    "r_ma = (5**(-1)) * (r1 + r2 + r3 + r4 + r5)\n",
    "f1_ma = 2 * p_ma * r_ma / (p_ma + r_ma) \n",
    "\n",
    "print('p_ma:', p_ma)\n",
    "print('r_ma:', r_ma)\n",
    "print('f1_ma:', f1_ma)"
   ]
  },
  {
   "cell_type": "markdown",
   "metadata": {},
   "source": [
    "### Manual Way"
   ]
  },
  {
   "cell_type": "code",
   "execution_count": null,
   "metadata": {},
   "outputs": [],
   "source": []
  }
 ],
 "metadata": {
  "kernelspec": {
   "display_name": "Python 3",
   "language": "python",
   "name": "python3"
  },
  "language_info": {
   "codemirror_mode": {
    "name": "ipython",
    "version": 3
   },
   "file_extension": ".py",
   "mimetype": "text/x-python",
   "name": "python",
   "nbconvert_exporter": "python",
   "pygments_lexer": "ipython3",
   "version": "3.8.6"
  }
 },
 "nbformat": 4,
 "nbformat_minor": 4
}
