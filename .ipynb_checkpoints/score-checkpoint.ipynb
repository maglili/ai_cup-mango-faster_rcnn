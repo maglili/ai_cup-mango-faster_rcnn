{
 "cells": [
  {
   "cell_type": "markdown",
   "metadata": {},
   "source": [
    "## Processing files"
   ]
  },
  {
   "cell_type": "code",
   "execution_count": 99,
   "metadata": {},
   "outputs": [
    {
     "data": {
      "text/html": [
       "<div>\n",
       "<style scoped>\n",
       "    .dataframe tbody tr th:only-of-type {\n",
       "        vertical-align: middle;\n",
       "    }\n",
       "\n",
       "    .dataframe tbody tr th {\n",
       "        vertical-align: top;\n",
       "    }\n",
       "\n",
       "    .dataframe thead th {\n",
       "        text-align: right;\n",
       "    }\n",
       "</style>\n",
       "<table border=\"1\" class=\"dataframe\">\n",
       "  <thead>\n",
       "    <tr style=\"text-align: right;\">\n",
       "      <th></th>\n",
       "      <th>files</th>\n",
       "      <th>不良-乳汁吸附</th>\n",
       "      <th>不良-機械傷害</th>\n",
       "      <th>不良-炭疽病</th>\n",
       "      <th>不良-著色不佳</th>\n",
       "      <th>不良-黑斑病</th>\n",
       "    </tr>\n",
       "  </thead>\n",
       "  <tbody>\n",
       "    <tr>\n",
       "      <th>0</th>\n",
       "      <td>26519.jpg</td>\n",
       "      <td>0</td>\n",
       "      <td>1</td>\n",
       "      <td>1</td>\n",
       "      <td>0</td>\n",
       "      <td>0</td>\n",
       "    </tr>\n",
       "    <tr>\n",
       "      <th>1</th>\n",
       "      <td>39995.jpg</td>\n",
       "      <td>0</td>\n",
       "      <td>1</td>\n",
       "      <td>1</td>\n",
       "      <td>0</td>\n",
       "      <td>0</td>\n",
       "    </tr>\n",
       "    <tr>\n",
       "      <th>2</th>\n",
       "      <td>40837.jpg</td>\n",
       "      <td>0</td>\n",
       "      <td>1</td>\n",
       "      <td>1</td>\n",
       "      <td>0</td>\n",
       "      <td>0</td>\n",
       "    </tr>\n",
       "    <tr>\n",
       "      <th>3</th>\n",
       "      <td>09242.jpg</td>\n",
       "      <td>1</td>\n",
       "      <td>1</td>\n",
       "      <td>1</td>\n",
       "      <td>0</td>\n",
       "      <td>0</td>\n",
       "    </tr>\n",
       "    <tr>\n",
       "      <th>4</th>\n",
       "      <td>22304.jpg</td>\n",
       "      <td>0</td>\n",
       "      <td>1</td>\n",
       "      <td>1</td>\n",
       "      <td>0</td>\n",
       "      <td>0</td>\n",
       "    </tr>\n",
       "    <tr>\n",
       "      <th>...</th>\n",
       "      <td>...</td>\n",
       "      <td>...</td>\n",
       "      <td>...</td>\n",
       "      <td>...</td>\n",
       "      <td>...</td>\n",
       "      <td>...</td>\n",
       "    </tr>\n",
       "    <tr>\n",
       "      <th>3676</th>\n",
       "      <td>31935.jpg</td>\n",
       "      <td>0</td>\n",
       "      <td>0</td>\n",
       "      <td>0</td>\n",
       "      <td>1</td>\n",
       "      <td>0</td>\n",
       "    </tr>\n",
       "    <tr>\n",
       "      <th>3677</th>\n",
       "      <td>46995.jpg</td>\n",
       "      <td>0</td>\n",
       "      <td>0</td>\n",
       "      <td>1</td>\n",
       "      <td>0</td>\n",
       "      <td>0</td>\n",
       "    </tr>\n",
       "    <tr>\n",
       "      <th>3678</th>\n",
       "      <td>18652.jpg</td>\n",
       "      <td>0</td>\n",
       "      <td>0</td>\n",
       "      <td>1</td>\n",
       "      <td>0</td>\n",
       "      <td>0</td>\n",
       "    </tr>\n",
       "    <tr>\n",
       "      <th>3679</th>\n",
       "      <td>37653.jpg</td>\n",
       "      <td>0</td>\n",
       "      <td>0</td>\n",
       "      <td>1</td>\n",
       "      <td>1</td>\n",
       "      <td>0</td>\n",
       "    </tr>\n",
       "    <tr>\n",
       "      <th>3680</th>\n",
       "      <td>27894.jpg</td>\n",
       "      <td>0</td>\n",
       "      <td>0</td>\n",
       "      <td>1</td>\n",
       "      <td>1</td>\n",
       "      <td>0</td>\n",
       "    </tr>\n",
       "  </tbody>\n",
       "</table>\n",
       "<p>3681 rows × 6 columns</p>\n",
       "</div>"
      ],
      "text/plain": [
       "          files  不良-乳汁吸附  不良-機械傷害  不良-炭疽病  不良-著色不佳  不良-黑斑病\n",
       "0     26519.jpg        0        1       1        0       0\n",
       "1     39995.jpg        0        1       1        0       0\n",
       "2     40837.jpg        0        1       1        0       0\n",
       "3     09242.jpg        1        1       1        0       0\n",
       "4     22304.jpg        0        1       1        0       0\n",
       "...         ...      ...      ...     ...      ...     ...\n",
       "3676  31935.jpg        0        0       0        1       0\n",
       "3677  46995.jpg        0        0       1        0       0\n",
       "3678  18652.jpg        0        0       1        0       0\n",
       "3679  37653.jpg        0        0       1        1       0\n",
       "3680  27894.jpg        0        0       1        1       0\n",
       "\n",
       "[3681 rows x 6 columns]"
      ]
     },
     "execution_count": 99,
     "metadata": {},
     "output_type": "execute_result"
    }
   ],
   "source": [
    "import numpy as np\n",
    "import pandas as pd\n",
    "class1=[]\n",
    "class2=[]\n",
    "class3=[]\n",
    "class4=[]\n",
    "class5=[]\n",
    "image=[]\n",
    "\n",
    "with open(r'.\\C2_TrainDev\\dev.csv', 'r', encoding='utf-8-sig') as fh:\n",
    "    for index,row in enumerate(fh):\n",
    "        row=row.strip()\n",
    "        row=row.split(',')\n",
    "        while True:\n",
    "            if '' in row:\n",
    "                row.remove('')\n",
    "            else:\n",
    "                break\n",
    "        #print(row)\n",
    "        aa=bb=cc=dd=ee=0\n",
    "        while len(row) > 1:\n",
    "            if row[5] == '不良-乳汁吸附':\n",
    "                aa = 1\n",
    "            elif row[5] == '不良-機械傷害':\n",
    "                bb = 1\n",
    "            elif row[5] == '不良-炭疽病':\n",
    "                cc = 1\n",
    "            elif row[5] == '不良-著色不佳':\n",
    "                dd = 1\n",
    "            elif row[5] == '不良-黑斑病':\n",
    "                    ee = 1\n",
    "            for idx in range(5):\n",
    "                row.remove(row[1]) \n",
    "                \n",
    "        if aa == 1:\n",
    "            class1.append(1)\n",
    "        else:\n",
    "            class1.append(0)\n",
    "\n",
    "        if bb == 1:\n",
    "            class2.append(1)\n",
    "        else:\n",
    "            class2.append(0)\n",
    "\n",
    "        if cc == 1:\n",
    "            class3.append(1)\n",
    "        else:\n",
    "            class3.append(0)\n",
    "\n",
    "        if dd == 1:\n",
    "            class4.append(1)\n",
    "        else:\n",
    "            class4.append(0)\n",
    "\n",
    "        if ee == 1:\n",
    "            class5.append(1)\n",
    "        else:\n",
    "            class5.append(0)       \n",
    "                \n",
    "        image.append(row[0])\n",
    "\n",
    "valid_ans= pd.DataFrame({'files':image,'不良-乳汁吸附':class1,'不良-機械傷害':class2, '不良-炭疽病':class3,  '不良-著色不佳':class4, '不良-黑斑病':class5 })\n",
    "valid_ans"
   ]
  },
  {
   "cell_type": "code",
   "execution_count": 100,
   "metadata": {},
   "outputs": [
    {
     "data": {
      "text/html": [
       "<div>\n",
       "<style scoped>\n",
       "    .dataframe tbody tr th:only-of-type {\n",
       "        vertical-align: middle;\n",
       "    }\n",
       "\n",
       "    .dataframe tbody tr th {\n",
       "        vertical-align: top;\n",
       "    }\n",
       "\n",
       "    .dataframe thead th {\n",
       "        text-align: right;\n",
       "    }\n",
       "</style>\n",
       "<table border=\"1\" class=\"dataframe\">\n",
       "  <thead>\n",
       "    <tr style=\"text-align: right;\">\n",
       "      <th></th>\n",
       "      <th>files</th>\n",
       "      <th>不良-乳汁吸附</th>\n",
       "      <th>不良-機械傷害</th>\n",
       "      <th>不良-炭疽病</th>\n",
       "      <th>不良-著色不佳</th>\n",
       "      <th>不良-黑斑病</th>\n",
       "    </tr>\n",
       "  </thead>\n",
       "  <tbody>\n",
       "    <tr>\n",
       "      <th>1791</th>\n",
       "      <td>00002.jpg</td>\n",
       "      <td>0</td>\n",
       "      <td>0</td>\n",
       "      <td>0</td>\n",
       "      <td>1</td>\n",
       "      <td>0</td>\n",
       "    </tr>\n",
       "    <tr>\n",
       "      <th>1843</th>\n",
       "      <td>00003.jpg</td>\n",
       "      <td>0</td>\n",
       "      <td>0</td>\n",
       "      <td>1</td>\n",
       "      <td>0</td>\n",
       "      <td>0</td>\n",
       "    </tr>\n",
       "    <tr>\n",
       "      <th>3151</th>\n",
       "      <td>00004.jpg</td>\n",
       "      <td>0</td>\n",
       "      <td>0</td>\n",
       "      <td>1</td>\n",
       "      <td>0</td>\n",
       "      <td>0</td>\n",
       "    </tr>\n",
       "    <tr>\n",
       "      <th>89</th>\n",
       "      <td>00022.jpg</td>\n",
       "      <td>0</td>\n",
       "      <td>0</td>\n",
       "      <td>1</td>\n",
       "      <td>1</td>\n",
       "      <td>0</td>\n",
       "    </tr>\n",
       "    <tr>\n",
       "      <th>3631</th>\n",
       "      <td>00030.jpg</td>\n",
       "      <td>0</td>\n",
       "      <td>0</td>\n",
       "      <td>0</td>\n",
       "      <td>1</td>\n",
       "      <td>0</td>\n",
       "    </tr>\n",
       "    <tr>\n",
       "      <th>...</th>\n",
       "      <td>...</td>\n",
       "      <td>...</td>\n",
       "      <td>...</td>\n",
       "      <td>...</td>\n",
       "      <td>...</td>\n",
       "      <td>...</td>\n",
       "    </tr>\n",
       "    <tr>\n",
       "      <th>404</th>\n",
       "      <td>49987.jpg</td>\n",
       "      <td>0</td>\n",
       "      <td>0</td>\n",
       "      <td>1</td>\n",
       "      <td>0</td>\n",
       "      <td>0</td>\n",
       "    </tr>\n",
       "    <tr>\n",
       "      <th>1165</th>\n",
       "      <td>49988.jpg</td>\n",
       "      <td>0</td>\n",
       "      <td>0</td>\n",
       "      <td>0</td>\n",
       "      <td>1</td>\n",
       "      <td>0</td>\n",
       "    </tr>\n",
       "    <tr>\n",
       "      <th>967</th>\n",
       "      <td>49989.jpg</td>\n",
       "      <td>0</td>\n",
       "      <td>0</td>\n",
       "      <td>0</td>\n",
       "      <td>1</td>\n",
       "      <td>0</td>\n",
       "    </tr>\n",
       "    <tr>\n",
       "      <th>786</th>\n",
       "      <td>49993.jpg</td>\n",
       "      <td>0</td>\n",
       "      <td>0</td>\n",
       "      <td>0</td>\n",
       "      <td>1</td>\n",
       "      <td>0</td>\n",
       "    </tr>\n",
       "    <tr>\n",
       "      <th>2987</th>\n",
       "      <td>49997.jpg</td>\n",
       "      <td>0</td>\n",
       "      <td>0</td>\n",
       "      <td>1</td>\n",
       "      <td>0</td>\n",
       "      <td>0</td>\n",
       "    </tr>\n",
       "  </tbody>\n",
       "</table>\n",
       "<p>3681 rows × 6 columns</p>\n",
       "</div>"
      ],
      "text/plain": [
       "          files  不良-乳汁吸附  不良-機械傷害  不良-炭疽病  不良-著色不佳  不良-黑斑病\n",
       "1791  00002.jpg        0        0       0        1       0\n",
       "1843  00003.jpg        0        0       1        0       0\n",
       "3151  00004.jpg        0        0       1        0       0\n",
       "89    00022.jpg        0        0       1        1       0\n",
       "3631  00030.jpg        0        0       0        1       0\n",
       "...         ...      ...      ...     ...      ...     ...\n",
       "404   49987.jpg        0        0       1        0       0\n",
       "1165  49988.jpg        0        0       0        1       0\n",
       "967   49989.jpg        0        0       0        1       0\n",
       "786   49993.jpg        0        0       0        1       0\n",
       "2987  49997.jpg        0        0       1        0       0\n",
       "\n",
       "[3681 rows x 6 columns]"
      ]
     },
     "execution_count": 100,
     "metadata": {},
     "output_type": "execute_result"
    }
   ],
   "source": [
    "valid_ans = valid_ans.sort_values(by=['files'])\n",
    "valid_ans"
   ]
  },
  {
   "cell_type": "code",
   "execution_count": 101,
   "metadata": {},
   "outputs": [],
   "source": [
    "valid_ans.to_pickle(r\".\\C2_TrainDev\\valid_ans.pkl\")"
   ]
  },
  {
   "cell_type": "markdown",
   "metadata": {},
   "source": [
    "### call predict file"
   ]
  },
  {
   "cell_type": "code",
   "execution_count": 102,
   "metadata": {},
   "outputs": [
    {
     "data": {
      "text/html": [
       "<div>\n",
       "<style scoped>\n",
       "    .dataframe tbody tr th:only-of-type {\n",
       "        vertical-align: middle;\n",
       "    }\n",
       "\n",
       "    .dataframe tbody tr th {\n",
       "        vertical-align: top;\n",
       "    }\n",
       "\n",
       "    .dataframe thead th {\n",
       "        text-align: right;\n",
       "    }\n",
       "</style>\n",
       "<table border=\"1\" class=\"dataframe\">\n",
       "  <thead>\n",
       "    <tr style=\"text-align: right;\">\n",
       "      <th></th>\n",
       "      <th>files</th>\n",
       "      <th>不良-乳汁吸附</th>\n",
       "      <th>不良-機械傷害</th>\n",
       "      <th>不良-炭疽病</th>\n",
       "      <th>不良-著色不佳</th>\n",
       "      <th>不良-黑斑病</th>\n",
       "    </tr>\n",
       "  </thead>\n",
       "  <tbody>\n",
       "    <tr>\n",
       "      <th>0</th>\n",
       "      <td>00002.jpg</td>\n",
       "      <td>0</td>\n",
       "      <td>0</td>\n",
       "      <td>0</td>\n",
       "      <td>1</td>\n",
       "      <td>0</td>\n",
       "    </tr>\n",
       "    <tr>\n",
       "      <th>1</th>\n",
       "      <td>00003.jpg</td>\n",
       "      <td>0</td>\n",
       "      <td>0</td>\n",
       "      <td>1</td>\n",
       "      <td>1</td>\n",
       "      <td>0</td>\n",
       "    </tr>\n",
       "    <tr>\n",
       "      <th>2</th>\n",
       "      <td>00004.jpg</td>\n",
       "      <td>0</td>\n",
       "      <td>0</td>\n",
       "      <td>1</td>\n",
       "      <td>0</td>\n",
       "      <td>0</td>\n",
       "    </tr>\n",
       "    <tr>\n",
       "      <th>3</th>\n",
       "      <td>00022.jpg</td>\n",
       "      <td>0</td>\n",
       "      <td>0</td>\n",
       "      <td>0</td>\n",
       "      <td>1</td>\n",
       "      <td>0</td>\n",
       "    </tr>\n",
       "    <tr>\n",
       "      <th>4</th>\n",
       "      <td>00030.jpg</td>\n",
       "      <td>0</td>\n",
       "      <td>0</td>\n",
       "      <td>0</td>\n",
       "      <td>1</td>\n",
       "      <td>0</td>\n",
       "    </tr>\n",
       "    <tr>\n",
       "      <th>...</th>\n",
       "      <td>...</td>\n",
       "      <td>...</td>\n",
       "      <td>...</td>\n",
       "      <td>...</td>\n",
       "      <td>...</td>\n",
       "      <td>...</td>\n",
       "    </tr>\n",
       "    <tr>\n",
       "      <th>3676</th>\n",
       "      <td>49987.jpg</td>\n",
       "      <td>0</td>\n",
       "      <td>0</td>\n",
       "      <td>1</td>\n",
       "      <td>0</td>\n",
       "      <td>0</td>\n",
       "    </tr>\n",
       "    <tr>\n",
       "      <th>3677</th>\n",
       "      <td>49988.jpg</td>\n",
       "      <td>0</td>\n",
       "      <td>0</td>\n",
       "      <td>0</td>\n",
       "      <td>1</td>\n",
       "      <td>0</td>\n",
       "    </tr>\n",
       "    <tr>\n",
       "      <th>3678</th>\n",
       "      <td>49989.jpg</td>\n",
       "      <td>0</td>\n",
       "      <td>0</td>\n",
       "      <td>0</td>\n",
       "      <td>0</td>\n",
       "      <td>0</td>\n",
       "    </tr>\n",
       "    <tr>\n",
       "      <th>3679</th>\n",
       "      <td>49993.jpg</td>\n",
       "      <td>0</td>\n",
       "      <td>0</td>\n",
       "      <td>1</td>\n",
       "      <td>1</td>\n",
       "      <td>0</td>\n",
       "    </tr>\n",
       "    <tr>\n",
       "      <th>3680</th>\n",
       "      <td>49997.jpg</td>\n",
       "      <td>0</td>\n",
       "      <td>0</td>\n",
       "      <td>1</td>\n",
       "      <td>1</td>\n",
       "      <td>0</td>\n",
       "    </tr>\n",
       "  </tbody>\n",
       "</table>\n",
       "<p>3681 rows × 6 columns</p>\n",
       "</div>"
      ],
      "text/plain": [
       "          files  不良-乳汁吸附  不良-機械傷害  不良-炭疽病  不良-著色不佳  不良-黑斑病\n",
       "0     00002.jpg        0        0       0        1       0\n",
       "1     00003.jpg        0        0       1        1       0\n",
       "2     00004.jpg        0        0       1        0       0\n",
       "3     00022.jpg        0        0       0        1       0\n",
       "4     00030.jpg        0        0       0        1       0\n",
       "...         ...      ...      ...     ...      ...     ...\n",
       "3676  49987.jpg        0        0       1        0       0\n",
       "3677  49988.jpg        0        0       0        1       0\n",
       "3678  49989.jpg        0        0       0        0       0\n",
       "3679  49993.jpg        0        0       1        1       0\n",
       "3680  49997.jpg        0        0       1        1       0\n",
       "\n",
       "[3681 rows x 6 columns]"
      ]
     },
     "execution_count": 102,
     "metadata": {},
     "output_type": "execute_result"
    }
   ],
   "source": [
    "pred_df = pd.read_pickle(r\".\\C2_TrainDev\\pred_df.pkl\")\n",
    "pred_df"
   ]
  },
  {
   "cell_type": "markdown",
   "metadata": {},
   "source": [
    "## score"
   ]
  },
  {
   "cell_type": "markdown",
   "metadata": {},
   "source": [
    "### Approch1: sum and average all f1"
   ]
  },
  {
   "cell_type": "code",
   "execution_count": 103,
   "metadata": {},
   "outputs": [],
   "source": [
    "from sklearn.metrics import f1_score"
   ]
  },
  {
   "cell_type": "code",
   "execution_count": 104,
   "metadata": {},
   "outputs": [
    {
     "data": {
      "text/plain": [
       "0.25733634311512416"
      ]
     },
     "execution_count": 104,
     "metadata": {},
     "output_type": "execute_result"
    }
   ],
   "source": [
    "y_true1 = valid_ans['不良-乳汁吸附']\n",
    "y_pred1 = pred_df['不良-乳汁吸附']\n",
    "f1_1 = f1_score(y_true1, y_pred1)\n",
    "f1_1"
   ]
  },
  {
   "cell_type": "code",
   "execution_count": 105,
   "metadata": {},
   "outputs": [
    {
     "data": {
      "text/plain": [
       "0.0"
      ]
     },
     "execution_count": 105,
     "metadata": {},
     "output_type": "execute_result"
    }
   ],
   "source": [
    "y_true2 = valid_ans['不良-機械傷害']\n",
    "y_pred2 = pred_df['不良-機械傷害']\n",
    "f1_2 = f1_score(y_true2, y_pred2)\n",
    "f1_2"
   ]
  },
  {
   "cell_type": "code",
   "execution_count": 106,
   "metadata": {},
   "outputs": [
    {
     "data": {
      "text/plain": [
       "0.8256678600936381"
      ]
     },
     "execution_count": 106,
     "metadata": {},
     "output_type": "execute_result"
    }
   ],
   "source": [
    "y_true3 = valid_ans['不良-炭疽病']\n",
    "y_pred3 = pred_df['不良-炭疽病']\n",
    "f1_3 = f1_score(y_true3, y_pred3)\n",
    "f1_3"
   ]
  },
  {
   "cell_type": "code",
   "execution_count": 110,
   "metadata": {},
   "outputs": [
    {
     "data": {
      "text/plain": [
       "0.823664297179546"
      ]
     },
     "execution_count": 110,
     "metadata": {},
     "output_type": "execute_result"
    }
   ],
   "source": [
    "y_true4 = valid_ans['不良-著色不佳']\n",
    "y_pred4 = pred_df['不良-著色不佳']\n",
    "f1_4 = f1_score(y_true4, y_pred4)\n",
    "f1_4"
   ]
  },
  {
   "cell_type": "code",
   "execution_count": 111,
   "metadata": {},
   "outputs": [
    {
     "data": {
      "text/plain": [
       "0.0"
      ]
     },
     "execution_count": 111,
     "metadata": {},
     "output_type": "execute_result"
    }
   ],
   "source": [
    "y_true5 = valid_ans['不良-黑斑病']\n",
    "y_pred5 = pred_df['不良-黑斑病']\n",
    "f1_5 = f1_score(y_true5, y_pred5)\n",
    "f1_5"
   ]
  },
  {
   "cell_type": "code",
   "execution_count": 112,
   "metadata": {},
   "outputs": [
    {
     "name": "stdout",
     "output_type": "stream",
     "text": [
      "0.3813337000776617\n"
     ]
    }
   ],
   "source": [
    "f1_all = ( 5**(-1) ) * (f1_1 + f1_2 +f1_3 +f1_4 +f1_5)\n",
    "print(f1_all)"
   ]
  },
  {
   "cell_type": "markdown",
   "metadata": {},
   "source": [
    "### Approch2: 5 precission , recall way"
   ]
  },
  {
   "cell_type": "code",
   "execution_count": 114,
   "metadata": {},
   "outputs": [],
   "source": [
    "from sklearn.metrics import precision_score\n",
    "from sklearn.metrics import recall_score"
   ]
  },
  {
   "cell_type": "code",
   "execution_count": 115,
   "metadata": {},
   "outputs": [
    {
     "name": "stdout",
     "output_type": "stream",
     "text": [
      "precission 0.4222222222222222\n",
      "recall 0.18506493506493507\n"
     ]
    }
   ],
   "source": [
    "y_true1 = valid_ans['不良-乳汁吸附']\n",
    "y_pred1 = pred_df['不良-乳汁吸附']\n",
    "p1 = precision_score(y_true1, y_pred1)\n",
    "r1 = recall_score(y_true1, y_pred1)\n",
    "print('precission',p1)\n",
    "print('recall',r1)"
   ]
  },
  {
   "cell_type": "code",
   "execution_count": 117,
   "metadata": {},
   "outputs": [
    {
     "name": "stdout",
     "output_type": "stream",
     "text": [
      "precission 0.0\n",
      "recall 0.0\n"
     ]
    }
   ],
   "source": [
    "y_true2 = valid_ans['不良-機械傷害']\n",
    "y_pred2 = pred_df['不良-機械傷害']\n",
    "p2 = precision_score(y_true2, y_pred2)\n",
    "r2 = recall_score(y_true2, y_pred2)\n",
    "print('precission',p2)\n",
    "print('recall',r2)"
   ]
  },
  {
   "cell_type": "code",
   "execution_count": 118,
   "metadata": {},
   "outputs": [
    {
     "name": "stdout",
     "output_type": "stream",
     "text": [
      "precission 0.8033226152197214\n",
      "recall 0.8492917847025496\n"
     ]
    }
   ],
   "source": [
    "y_true3 = valid_ans['不良-炭疽病']\n",
    "y_pred3 = pred_df['不良-炭疽病']\n",
    "p3 = precision_score(y_true3, y_pred3)\n",
    "r3 = recall_score(y_true3, y_pred3)\n",
    "print('precission',p3)\n",
    "print('recall',r3)"
   ]
  },
  {
   "cell_type": "code",
   "execution_count": 119,
   "metadata": {},
   "outputs": [
    {
     "name": "stdout",
     "output_type": "stream",
     "text": [
      "precission 0.7412298803136608\n",
      "recall 0.9267285861713106\n"
     ]
    }
   ],
   "source": [
    "y_true4 = valid_ans['不良-著色不佳']\n",
    "y_pred4 = pred_df['不良-著色不佳']\n",
    "p4 = precision_score(y_true4, y_pred4)\n",
    "r4 = recall_score(y_true4, y_pred4)\n",
    "print('precission',p4)\n",
    "print('recall',r4)"
   ]
  },
  {
   "cell_type": "code",
   "execution_count": 120,
   "metadata": {},
   "outputs": [
    {
     "name": "stdout",
     "output_type": "stream",
     "text": [
      "precission 0.0\n",
      "recall 0.0\n"
     ]
    }
   ],
   "source": [
    "y_true5 = valid_ans['不良-黑斑病']\n",
    "y_pred5 = pred_df['不良-黑斑病']\n",
    "p5 = precision_score(y_true5, y_pred5)\n",
    "r5 = recall_score(y_true5, y_pred5)\n",
    "print('precission',p5)\n",
    "print('recall',r5)"
   ]
  },
  {
   "cell_type": "code",
   "execution_count": 121,
   "metadata": {},
   "outputs": [
    {
     "name": "stdout",
     "output_type": "stream",
     "text": [
      "p_ma: 0.3933549435511209\n",
      "r_ma: 0.3922170611877591\n",
      "f1_ma: 0.3927851782716711\n"
     ]
    }
   ],
   "source": [
    "p_ma = (5**(-1)) * (p1 + p2 + p3 + p4 + p5)\n",
    "r_ma = (5**(-1)) * (r1 + r2 + r3 + r4 + r5)\n",
    "f1_ma = 2 * p_ma * r_ma / (p_ma + r_ma) \n",
    "\n",
    "print('p_ma:', p_ma)\n",
    "print('r_ma:', r_ma)\n",
    "print('f1_ma:', f1_ma)"
   ]
  },
  {
   "cell_type": "markdown",
   "metadata": {},
   "source": [
    "### Manual Way"
   ]
  },
  {
   "cell_type": "code",
   "execution_count": 122,
   "metadata": {},
   "outputs": [],
   "source": [
    "def perf_measure(y_actual, y_pred):\n",
    "    TP = 0\n",
    "    FP = 0\n",
    "    TN = 0\n",
    "    FN = 0\n",
    "\n",
    "    for i in range(len(y_pred)): \n",
    "        if y_actual[i]==y_pred[i]==1:\n",
    "           TP += 1\n",
    "        if y_pred[i]==1 and y_actual[i]!=y_pred[i]:\n",
    "           FP += 1\n",
    "        if y_actual[i]==y_pred[i]==0:\n",
    "           TN += 1\n",
    "        if y_pred[i]==0 and y_actual[i]!=y_pred[i]:\n",
    "           FN += 1\n",
    "\n",
    "    return(TP, FP, TN, FN)"
   ]
  },
  {
   "cell_type": "code",
   "execution_count": 123,
   "metadata": {},
   "outputs": [
    {
     "name": "stdout",
     "output_type": "stream",
     "text": [
      "TP: 7\n",
      "FP: 128\n",
      "TN: 3245\n",
      "FN: 301\n",
      "--------------------\n",
      "precision1: 0.05185185185185185\n",
      "recall1: 0.022727272727272728\n"
     ]
    }
   ],
   "source": [
    "#'不良-機械傷害'\n",
    "(TP, FP, TN, FN) =  perf_measure(y_true1, y_pred1)\n",
    "print('TP:', TP)\n",
    "print('FP:', FP)\n",
    "print('TN:', TN)\n",
    "print('FN:', FN)\n",
    "try:\n",
    "    precision1 = TP / (TP + FP)\n",
    "except:\n",
    "    precision1 = 0\n",
    "try:    \n",
    "    recall1 = TP / (TP + FN)\n",
    "except:\n",
    "    recall1 = 0\n",
    "print('-'*20)\n",
    "print( 'precision1:',precision1)\n",
    "print('recall1:', recall1)"
   ]
  },
  {
   "cell_type": "code",
   "execution_count": 124,
   "metadata": {},
   "outputs": [
    {
     "name": "stdout",
     "output_type": "stream",
     "text": [
      "TP: 0\n",
      "FP: 0\n",
      "TN: 3621\n",
      "FN: 60\n",
      "--------------------\n",
      "precision2: 0\n",
      "recall2: 0.0\n"
     ]
    }
   ],
   "source": [
    "#'不良-機械傷害'\n",
    "(TP, FP, TN, FN) =  perf_measure(y_true2, y_pred2)\n",
    "print('TP:', TP)\n",
    "print('FP:', FP)\n",
    "print('TN:', TN)\n",
    "print('FN:', FN)\n",
    "try:\n",
    "    precision2 = TP / (TP + FP)\n",
    "except:\n",
    "    precision2 = 0\n",
    "try:    \n",
    "    recall2 = TP / (TP + FN)\n",
    "except:\n",
    "    recall2 = 0\n",
    "print('-'*20)\n",
    "print( 'precision2:',precision2)\n",
    "print('recall2:', recall2 )"
   ]
  },
  {
   "cell_type": "code",
   "execution_count": 125,
   "metadata": {},
   "outputs": [
    {
     "name": "stdout",
     "output_type": "stream",
     "text": [
      "TP: 902\n",
      "FP: 964\n",
      "TN: 952\n",
      "FN: 863\n",
      "--------------------\n",
      "precision3: 0.4833869239013934\n",
      "recall3: 0.5110481586402267\n"
     ]
    }
   ],
   "source": [
    "#'不良-炭疽病'\n",
    "(TP, FP, TN, FN) =  perf_measure(y_true3, y_pred3)\n",
    "print('TP:', TP)\n",
    "print('FP:', FP)\n",
    "print('TN:', TN)\n",
    "print('FN:', FN)\n",
    "try:\n",
    "    precision3 = TP / (TP + FP)\n",
    "except:\n",
    "    precision3 = 0\n",
    "try:    \n",
    "    recall3 = TP / (TP + FN)\n",
    "except:\n",
    "    recall3 = 0\n",
    "print('-'*20)\n",
    "print( 'precision3:',precision3)\n",
    "print('recall3:', recall3)"
   ]
  },
  {
   "cell_type": "code",
   "execution_count": 126,
   "metadata": {},
   "outputs": [
    {
     "name": "stdout",
     "output_type": "stream",
     "text": [
      "TP: 1259\n",
      "FP: 1164\n",
      "TN: 579\n",
      "FN: 679\n",
      "--------------------\n",
      "precision4: 0.5196037969459348\n",
      "recall4: 0.6496388028895769\n"
     ]
    }
   ],
   "source": [
    "#'不良-著色不佳'\n",
    "(TP, FP, TN, FN) =  perf_measure(y_true4, y_pred4)\n",
    "print('TP:', TP)\n",
    "print('FP:', FP)\n",
    "print('TN:', TN)\n",
    "print('FN:', FN)\n",
    "try:\n",
    "    precision4 = TP / (TP + FP)\n",
    "except:\n",
    "    precision4 = 0\n",
    "try:    \n",
    "    recall4 = TP / (TP + FN)\n",
    "except:\n",
    "    recall4 = 0\n",
    "print('-'*20)\n",
    "print( 'precision4:', precision4)\n",
    "print('recall4:', recall4)"
   ]
  },
  {
   "cell_type": "code",
   "execution_count": 127,
   "metadata": {},
   "outputs": [
    {
     "name": "stdout",
     "output_type": "stream",
     "text": [
      "TP: 0\n",
      "FP: 0\n",
      "TN: 3511\n",
      "FN: 170\n",
      "--------------------\n",
      "precision5: 0\n",
      "recall5: 0.0\n"
     ]
    }
   ],
   "source": [
    "#'不良-黑斑病'\n",
    "(TP, FP, TN, FN) =  perf_measure(y_true5, y_pred5)\n",
    "print('TP:', TP)\n",
    "print('FP:', FP)\n",
    "print('TN:', TN)\n",
    "print('FN:', FN)\n",
    "try:\n",
    "    precision5 = TP / (TP + FP)\n",
    "except:\n",
    "    precision5 = 0\n",
    "try:    \n",
    "    recall5 = TP / (TP + FN)\n",
    "except:\n",
    "    recall5 = 0\n",
    "print('-'*20)\n",
    "print( 'precision5:', precision5)\n",
    "print('recall5:', recall5)"
   ]
  },
  {
   "cell_type": "code",
   "execution_count": 128,
   "metadata": {},
   "outputs": [
    {
     "name": "stdout",
     "output_type": "stream",
     "text": [
      "precision_ma: 0.21096851453983598\n",
      "recall_ma 0.23668284685141527\n"
     ]
    }
   ],
   "source": [
    "precision_ma = (precision1 + precision2 + precision3 + precision4 + precision5) / 5\n",
    "recall_ma = (recall1 + recall2 + recall3 + recall4 + recall5) / 5\n",
    "print('precision_ma:', precision_ma)\n",
    "print('recall_ma', recall_ma)"
   ]
  },
  {
   "cell_type": "code",
   "execution_count": 129,
   "metadata": {},
   "outputs": [
    {
     "name": "stdout",
     "output_type": "stream",
     "text": [
      "0.22308712951131188\n"
     ]
    }
   ],
   "source": [
    "F1_ma = 2 * recall_ma * precision_ma / ( recall_ma + precision_ma )\n",
    "print(F1_ma)"
   ]
  },
  {
   "cell_type": "code",
   "execution_count": null,
   "metadata": {},
   "outputs": [],
   "source": []
  }
 ],
 "metadata": {
  "kernelspec": {
   "display_name": "Python 3",
   "language": "python",
   "name": "python3"
  },
  "language_info": {
   "codemirror_mode": {
    "name": "ipython",
    "version": 3
   },
   "file_extension": ".py",
   "mimetype": "text/x-python",
   "name": "python",
   "nbconvert_exporter": "python",
   "pygments_lexer": "ipython3",
   "version": "3.8.6"
  }
 },
 "nbformat": 4,
 "nbformat_minor": 4
}
