{
 "cells": [
  {
   "cell_type": "code",
   "execution_count": 14,
   "metadata": {},
   "outputs": [
    {
     "data": {
      "text/plain": [
       "'E:\\\\user\\\\Documents\\\\Projects\\\\AICUP_2020_Mango'"
      ]
     },
     "execution_count": 14,
     "metadata": {},
     "output_type": "execute_result"
    }
   ],
   "source": [
    "pwd"
   ]
  },
  {
   "cell_type": "markdown",
   "metadata": {},
   "source": [
    "## Processing files"
   ]
  },
  {
   "cell_type": "code",
   "execution_count": 4,
   "metadata": {},
   "outputs": [
    {
     "data": {
      "text/html": [
       "<div>\n",
       "<style scoped>\n",
       "    .dataframe tbody tr th:only-of-type {\n",
       "        vertical-align: middle;\n",
       "    }\n",
       "\n",
       "    .dataframe tbody tr th {\n",
       "        vertical-align: top;\n",
       "    }\n",
       "\n",
       "    .dataframe thead th {\n",
       "        text-align: right;\n",
       "    }\n",
       "</style>\n",
       "<table border=\"1\" class=\"dataframe\">\n",
       "  <thead>\n",
       "    <tr style=\"text-align: right;\">\n",
       "      <th></th>\n",
       "      <th>files</th>\n",
       "      <th>不良-乳汁吸附</th>\n",
       "      <th>不良-機械傷害</th>\n",
       "      <th>不良-炭疽病</th>\n",
       "      <th>不良-著色不佳</th>\n",
       "      <th>不良-黑斑病</th>\n",
       "    </tr>\n",
       "  </thead>\n",
       "  <tbody>\n",
       "    <tr>\n",
       "      <th>0</th>\n",
       "      <td>26519.jpg</td>\n",
       "      <td>0</td>\n",
       "      <td>1</td>\n",
       "      <td>1</td>\n",
       "      <td>0</td>\n",
       "      <td>0</td>\n",
       "    </tr>\n",
       "    <tr>\n",
       "      <th>1</th>\n",
       "      <td>39995.jpg</td>\n",
       "      <td>0</td>\n",
       "      <td>1</td>\n",
       "      <td>1</td>\n",
       "      <td>0</td>\n",
       "      <td>0</td>\n",
       "    </tr>\n",
       "    <tr>\n",
       "      <th>2</th>\n",
       "      <td>40837.jpg</td>\n",
       "      <td>0</td>\n",
       "      <td>1</td>\n",
       "      <td>1</td>\n",
       "      <td>0</td>\n",
       "      <td>0</td>\n",
       "    </tr>\n",
       "    <tr>\n",
       "      <th>3</th>\n",
       "      <td>09242.jpg</td>\n",
       "      <td>1</td>\n",
       "      <td>1</td>\n",
       "      <td>1</td>\n",
       "      <td>0</td>\n",
       "      <td>0</td>\n",
       "    </tr>\n",
       "    <tr>\n",
       "      <th>4</th>\n",
       "      <td>22304.jpg</td>\n",
       "      <td>0</td>\n",
       "      <td>1</td>\n",
       "      <td>1</td>\n",
       "      <td>0</td>\n",
       "      <td>0</td>\n",
       "    </tr>\n",
       "    <tr>\n",
       "      <th>...</th>\n",
       "      <td>...</td>\n",
       "      <td>...</td>\n",
       "      <td>...</td>\n",
       "      <td>...</td>\n",
       "      <td>...</td>\n",
       "      <td>...</td>\n",
       "    </tr>\n",
       "    <tr>\n",
       "      <th>3676</th>\n",
       "      <td>31935.jpg</td>\n",
       "      <td>0</td>\n",
       "      <td>0</td>\n",
       "      <td>0</td>\n",
       "      <td>1</td>\n",
       "      <td>0</td>\n",
       "    </tr>\n",
       "    <tr>\n",
       "      <th>3677</th>\n",
       "      <td>46995.jpg</td>\n",
       "      <td>0</td>\n",
       "      <td>0</td>\n",
       "      <td>1</td>\n",
       "      <td>0</td>\n",
       "      <td>0</td>\n",
       "    </tr>\n",
       "    <tr>\n",
       "      <th>3678</th>\n",
       "      <td>18652.jpg</td>\n",
       "      <td>0</td>\n",
       "      <td>0</td>\n",
       "      <td>1</td>\n",
       "      <td>0</td>\n",
       "      <td>0</td>\n",
       "    </tr>\n",
       "    <tr>\n",
       "      <th>3679</th>\n",
       "      <td>37653.jpg</td>\n",
       "      <td>0</td>\n",
       "      <td>0</td>\n",
       "      <td>1</td>\n",
       "      <td>1</td>\n",
       "      <td>0</td>\n",
       "    </tr>\n",
       "    <tr>\n",
       "      <th>3680</th>\n",
       "      <td>27894.jpg</td>\n",
       "      <td>0</td>\n",
       "      <td>0</td>\n",
       "      <td>1</td>\n",
       "      <td>1</td>\n",
       "      <td>0</td>\n",
       "    </tr>\n",
       "  </tbody>\n",
       "</table>\n",
       "<p>3681 rows × 6 columns</p>\n",
       "</div>"
      ],
      "text/plain": [
       "          files  不良-乳汁吸附  不良-機械傷害  不良-炭疽病  不良-著色不佳  不良-黑斑病\n",
       "0     26519.jpg        0        1       1        0       0\n",
       "1     39995.jpg        0        1       1        0       0\n",
       "2     40837.jpg        0        1       1        0       0\n",
       "3     09242.jpg        1        1       1        0       0\n",
       "4     22304.jpg        0        1       1        0       0\n",
       "...         ...      ...      ...     ...      ...     ...\n",
       "3676  31935.jpg        0        0       0        1       0\n",
       "3677  46995.jpg        0        0       1        0       0\n",
       "3678  18652.jpg        0        0       1        0       0\n",
       "3679  37653.jpg        0        0       1        1       0\n",
       "3680  27894.jpg        0        0       1        1       0\n",
       "\n",
       "[3681 rows x 6 columns]"
      ]
     },
     "execution_count": 4,
     "metadata": {},
     "output_type": "execute_result"
    }
   ],
   "source": [
    "import numpy as np\n",
    "import pandas as pd\n",
    "class1=[]\n",
    "class2=[]\n",
    "class3=[]\n",
    "class4=[]\n",
    "class5=[]\n",
    "image=[]\n",
    "\n",
    "with open(r'E:\\user\\Documents\\Projects\\AICUP_2020_Mango\\TrainDev\\dev.csv', 'r', encoding='utf-8-sig') as fh:\n",
    "    for index,row in enumerate(fh):\n",
    "        row=row.strip()\n",
    "        row=row.split(',')\n",
    "        while True:\n",
    "            if '' in row:\n",
    "                row.remove('')\n",
    "            else:\n",
    "                break\n",
    "        #print(row)\n",
    "        aa=bb=cc=dd=ee=0\n",
    "        while len(row) > 1:\n",
    "            if row[5] == '不良-乳汁吸附':\n",
    "                aa = 1\n",
    "            elif row[5] == '不良-機械傷害':\n",
    "                bb = 1\n",
    "            elif row[5] == '不良-炭疽病':\n",
    "                cc = 1\n",
    "            elif row[5] == '不良-著色不佳':\n",
    "                dd = 1\n",
    "            elif row[5] == '不良-黑斑病':\n",
    "                    ee = 1\n",
    "            for idx in range(5):\n",
    "                row.remove(row[1]) \n",
    "                \n",
    "        if aa == 1:\n",
    "            class1.append(1)\n",
    "        else:\n",
    "            class1.append(0)\n",
    "\n",
    "        if bb == 1:\n",
    "            class2.append(1)\n",
    "        else:\n",
    "            class2.append(0)\n",
    "\n",
    "        if cc == 1:\n",
    "            class3.append(1)\n",
    "        else:\n",
    "            class3.append(0)\n",
    "\n",
    "        if dd == 1:\n",
    "            class4.append(1)\n",
    "        else:\n",
    "            class4.append(0)\n",
    "\n",
    "        if ee == 1:\n",
    "            class5.append(1)\n",
    "        else:\n",
    "            class5.append(0)       \n",
    "                \n",
    "        image.append(row[0])\n",
    "\n",
    "out_df= pd.DataFrame({'files':image,'不良-乳汁吸附':class1,'不良-機械傷害':class2, '不良-炭疽病':class3,  '不良-著色不佳':class4, '不良-黑斑病':class5 })\n",
    "out_df"
   ]
  },
  {
   "cell_type": "code",
   "execution_count": 11,
   "metadata": {},
   "outputs": [
    {
     "data": {
      "text/html": [
       "<div>\n",
       "<style scoped>\n",
       "    .dataframe tbody tr th:only-of-type {\n",
       "        vertical-align: middle;\n",
       "    }\n",
       "\n",
       "    .dataframe tbody tr th {\n",
       "        vertical-align: top;\n",
       "    }\n",
       "\n",
       "    .dataframe thead th {\n",
       "        text-align: right;\n",
       "    }\n",
       "</style>\n",
       "<table border=\"1\" class=\"dataframe\">\n",
       "  <thead>\n",
       "    <tr style=\"text-align: right;\">\n",
       "      <th></th>\n",
       "      <th>files</th>\n",
       "      <th>不良-乳汁吸附</th>\n",
       "      <th>不良-機械傷害</th>\n",
       "      <th>不良-炭疽病</th>\n",
       "      <th>不良-著色不佳</th>\n",
       "      <th>不良-黑斑病</th>\n",
       "    </tr>\n",
       "  </thead>\n",
       "  <tbody>\n",
       "    <tr>\n",
       "      <th>1791</th>\n",
       "      <td>00002.jpg</td>\n",
       "      <td>0</td>\n",
       "      <td>0</td>\n",
       "      <td>0</td>\n",
       "      <td>1</td>\n",
       "      <td>0</td>\n",
       "    </tr>\n",
       "    <tr>\n",
       "      <th>1843</th>\n",
       "      <td>00003.jpg</td>\n",
       "      <td>0</td>\n",
       "      <td>0</td>\n",
       "      <td>1</td>\n",
       "      <td>0</td>\n",
       "      <td>0</td>\n",
       "    </tr>\n",
       "    <tr>\n",
       "      <th>3151</th>\n",
       "      <td>00004.jpg</td>\n",
       "      <td>0</td>\n",
       "      <td>0</td>\n",
       "      <td>1</td>\n",
       "      <td>0</td>\n",
       "      <td>0</td>\n",
       "    </tr>\n",
       "    <tr>\n",
       "      <th>89</th>\n",
       "      <td>00022.jpg</td>\n",
       "      <td>0</td>\n",
       "      <td>0</td>\n",
       "      <td>1</td>\n",
       "      <td>1</td>\n",
       "      <td>0</td>\n",
       "    </tr>\n",
       "    <tr>\n",
       "      <th>3631</th>\n",
       "      <td>00030.jpg</td>\n",
       "      <td>0</td>\n",
       "      <td>0</td>\n",
       "      <td>0</td>\n",
       "      <td>1</td>\n",
       "      <td>0</td>\n",
       "    </tr>\n",
       "    <tr>\n",
       "      <th>...</th>\n",
       "      <td>...</td>\n",
       "      <td>...</td>\n",
       "      <td>...</td>\n",
       "      <td>...</td>\n",
       "      <td>...</td>\n",
       "      <td>...</td>\n",
       "    </tr>\n",
       "    <tr>\n",
       "      <th>404</th>\n",
       "      <td>49987.jpg</td>\n",
       "      <td>0</td>\n",
       "      <td>0</td>\n",
       "      <td>1</td>\n",
       "      <td>0</td>\n",
       "      <td>0</td>\n",
       "    </tr>\n",
       "    <tr>\n",
       "      <th>1165</th>\n",
       "      <td>49988.jpg</td>\n",
       "      <td>0</td>\n",
       "      <td>0</td>\n",
       "      <td>0</td>\n",
       "      <td>1</td>\n",
       "      <td>0</td>\n",
       "    </tr>\n",
       "    <tr>\n",
       "      <th>967</th>\n",
       "      <td>49989.jpg</td>\n",
       "      <td>0</td>\n",
       "      <td>0</td>\n",
       "      <td>0</td>\n",
       "      <td>1</td>\n",
       "      <td>0</td>\n",
       "    </tr>\n",
       "    <tr>\n",
       "      <th>786</th>\n",
       "      <td>49993.jpg</td>\n",
       "      <td>0</td>\n",
       "      <td>0</td>\n",
       "      <td>0</td>\n",
       "      <td>1</td>\n",
       "      <td>0</td>\n",
       "    </tr>\n",
       "    <tr>\n",
       "      <th>2987</th>\n",
       "      <td>49997.jpg</td>\n",
       "      <td>0</td>\n",
       "      <td>0</td>\n",
       "      <td>1</td>\n",
       "      <td>0</td>\n",
       "      <td>0</td>\n",
       "    </tr>\n",
       "  </tbody>\n",
       "</table>\n",
       "<p>3681 rows × 6 columns</p>\n",
       "</div>"
      ],
      "text/plain": [
       "          files  不良-乳汁吸附  不良-機械傷害  不良-炭疽病  不良-著色不佳  不良-黑斑病\n",
       "1791  00002.jpg        0        0       0        1       0\n",
       "1843  00003.jpg        0        0       1        0       0\n",
       "3151  00004.jpg        0        0       1        0       0\n",
       "89    00022.jpg        0        0       1        1       0\n",
       "3631  00030.jpg        0        0       0        1       0\n",
       "...         ...      ...      ...     ...      ...     ...\n",
       "404   49987.jpg        0        0       1        0       0\n",
       "1165  49988.jpg        0        0       0        1       0\n",
       "967   49989.jpg        0        0       0        1       0\n",
       "786   49993.jpg        0        0       0        1       0\n",
       "2987  49997.jpg        0        0       1        0       0\n",
       "\n",
       "[3681 rows x 6 columns]"
      ]
     },
     "execution_count": 11,
     "metadata": {},
     "output_type": "execute_result"
    }
   ],
   "source": [
    "valid_ans = out_df.sort_values(by=['files'])\n",
    "valid_ans"
   ]
  },
  {
   "cell_type": "code",
   "execution_count": 12,
   "metadata": {},
   "outputs": [],
   "source": [
    "valid_ans.to_pickle(r\"E:\\user\\Documents\\Projects\\AICUP_2020_Mango\\TrainDev\\valid_ans.pkl\")"
   ]
  },
  {
   "cell_type": "markdown",
   "metadata": {},
   "source": [
    "call file"
   ]
  },
  {
   "cell_type": "code",
   "execution_count": 30,
   "metadata": {},
   "outputs": [
    {
     "data": {
      "text/html": [
       "<div>\n",
       "<style scoped>\n",
       "    .dataframe tbody tr th:only-of-type {\n",
       "        vertical-align: middle;\n",
       "    }\n",
       "\n",
       "    .dataframe tbody tr th {\n",
       "        vertical-align: top;\n",
       "    }\n",
       "\n",
       "    .dataframe thead th {\n",
       "        text-align: right;\n",
       "    }\n",
       "</style>\n",
       "<table border=\"1\" class=\"dataframe\">\n",
       "  <thead>\n",
       "    <tr style=\"text-align: right;\">\n",
       "      <th></th>\n",
       "      <th>files</th>\n",
       "      <th>不良-乳汁吸附</th>\n",
       "      <th>不良-機械傷害</th>\n",
       "      <th>不良-炭疽病</th>\n",
       "      <th>不良-著色不佳</th>\n",
       "      <th>不良-黑斑病</th>\n",
       "    </tr>\n",
       "  </thead>\n",
       "  <tbody>\n",
       "    <tr>\n",
       "      <th>0</th>\n",
       "      <td>00002.jpg</td>\n",
       "      <td>0</td>\n",
       "      <td>0</td>\n",
       "      <td>0</td>\n",
       "      <td>1</td>\n",
       "      <td>0</td>\n",
       "    </tr>\n",
       "    <tr>\n",
       "      <th>1</th>\n",
       "      <td>00003.jpg</td>\n",
       "      <td>0</td>\n",
       "      <td>0</td>\n",
       "      <td>1</td>\n",
       "      <td>1</td>\n",
       "      <td>0</td>\n",
       "    </tr>\n",
       "    <tr>\n",
       "      <th>2</th>\n",
       "      <td>00004.jpg</td>\n",
       "      <td>0</td>\n",
       "      <td>0</td>\n",
       "      <td>1</td>\n",
       "      <td>0</td>\n",
       "      <td>0</td>\n",
       "    </tr>\n",
       "    <tr>\n",
       "      <th>3</th>\n",
       "      <td>00022.jpg</td>\n",
       "      <td>0</td>\n",
       "      <td>0</td>\n",
       "      <td>0</td>\n",
       "      <td>1</td>\n",
       "      <td>0</td>\n",
       "    </tr>\n",
       "    <tr>\n",
       "      <th>4</th>\n",
       "      <td>00030.jpg</td>\n",
       "      <td>0</td>\n",
       "      <td>0</td>\n",
       "      <td>0</td>\n",
       "      <td>1</td>\n",
       "      <td>0</td>\n",
       "    </tr>\n",
       "    <tr>\n",
       "      <th>...</th>\n",
       "      <td>...</td>\n",
       "      <td>...</td>\n",
       "      <td>...</td>\n",
       "      <td>...</td>\n",
       "      <td>...</td>\n",
       "      <td>...</td>\n",
       "    </tr>\n",
       "    <tr>\n",
       "      <th>3676</th>\n",
       "      <td>49987.jpg</td>\n",
       "      <td>0</td>\n",
       "      <td>0</td>\n",
       "      <td>1</td>\n",
       "      <td>0</td>\n",
       "      <td>0</td>\n",
       "    </tr>\n",
       "    <tr>\n",
       "      <th>3677</th>\n",
       "      <td>49988.jpg</td>\n",
       "      <td>0</td>\n",
       "      <td>0</td>\n",
       "      <td>0</td>\n",
       "      <td>1</td>\n",
       "      <td>0</td>\n",
       "    </tr>\n",
       "    <tr>\n",
       "      <th>3678</th>\n",
       "      <td>49989.jpg</td>\n",
       "      <td>0</td>\n",
       "      <td>0</td>\n",
       "      <td>0</td>\n",
       "      <td>0</td>\n",
       "      <td>0</td>\n",
       "    </tr>\n",
       "    <tr>\n",
       "      <th>3679</th>\n",
       "      <td>49993.jpg</td>\n",
       "      <td>0</td>\n",
       "      <td>0</td>\n",
       "      <td>1</td>\n",
       "      <td>1</td>\n",
       "      <td>0</td>\n",
       "    </tr>\n",
       "    <tr>\n",
       "      <th>3680</th>\n",
       "      <td>49997.jpg</td>\n",
       "      <td>0</td>\n",
       "      <td>0</td>\n",
       "      <td>1</td>\n",
       "      <td>1</td>\n",
       "      <td>0</td>\n",
       "    </tr>\n",
       "  </tbody>\n",
       "</table>\n",
       "<p>3681 rows × 6 columns</p>\n",
       "</div>"
      ],
      "text/plain": [
       "          files  不良-乳汁吸附  不良-機械傷害  不良-炭疽病  不良-著色不佳  不良-黑斑病\n",
       "0     00002.jpg        0        0       0        1       0\n",
       "1     00003.jpg        0        0       1        1       0\n",
       "2     00004.jpg        0        0       1        0       0\n",
       "3     00022.jpg        0        0       0        1       0\n",
       "4     00030.jpg        0        0       0        1       0\n",
       "...         ...      ...      ...     ...      ...     ...\n",
       "3676  49987.jpg        0        0       1        0       0\n",
       "3677  49988.jpg        0        0       0        1       0\n",
       "3678  49989.jpg        0        0       0        0       0\n",
       "3679  49993.jpg        0        0       1        1       0\n",
       "3680  49997.jpg        0        0       1        1       0\n",
       "\n",
       "[3681 rows x 6 columns]"
      ]
     },
     "execution_count": 30,
     "metadata": {},
     "output_type": "execute_result"
    }
   ],
   "source": [
    "pred_df = pd.read_pickle(r\"E:\\user\\Documents\\Projects\\AICUP_2020_Mango\\TrainDev\\pred_df.pkl\")\n",
    "pred_df"
   ]
  },
  {
   "cell_type": "markdown",
   "metadata": {},
   "source": [
    "## score"
   ]
  },
  {
   "cell_type": "markdown",
   "metadata": {},
   "source": [
    "sum and average all f1"
   ]
  },
  {
   "cell_type": "code",
   "execution_count": 16,
   "metadata": {},
   "outputs": [],
   "source": [
    "from sklearn.metrics import f1_score"
   ]
  },
  {
   "cell_type": "code",
   "execution_count": 17,
   "metadata": {},
   "outputs": [
    {
     "data": {
      "text/plain": [
       "0.9106221135560989"
      ]
     },
     "execution_count": 17,
     "metadata": {},
     "output_type": "execute_result"
    }
   ],
   "source": [
    "y_true1 = valid_ans['不良-乳汁吸附']\n",
    "y_pred1 = pred_df['不良-乳汁吸附']\n",
    "f1_1 = f1_score(y_true1, y_pred1, average='micro')\n",
    "f1_1"
   ]
  },
  {
   "cell_type": "code",
   "execution_count": 18,
   "metadata": {},
   "outputs": [
    {
     "data": {
      "text/plain": [
       "0.9837000814995925"
      ]
     },
     "execution_count": 18,
     "metadata": {},
     "output_type": "execute_result"
    }
   ],
   "source": [
    "y_true2 = valid_ans['不良-機械傷害']\n",
    "y_pred2 = pred_df['不良-機械傷害']\n",
    "f1_2 = f1_score(y_true2, y_pred2, average='micro')\n",
    "f1_2"
   ]
  },
  {
   "cell_type": "code",
   "execution_count": 19,
   "metadata": {},
   "outputs": [
    {
     "data": {
      "text/plain": [
       "0.8280358598207009"
      ]
     },
     "execution_count": 19,
     "metadata": {},
     "output_type": "execute_result"
    }
   ],
   "source": [
    "y_true3 = valid_ans['不良-炭疽病']\n",
    "y_pred3 = pred_df['不良-炭疽病']\n",
    "f1_3 = f1_score(y_true3, y_pred3, average='micro')\n",
    "f1_3"
   ]
  },
  {
   "cell_type": "code",
   "execution_count": 20,
   "metadata": {},
   "outputs": [
    {
     "data": {
      "text/plain": [
       "0.791089377886444"
      ]
     },
     "execution_count": 20,
     "metadata": {},
     "output_type": "execute_result"
    }
   ],
   "source": [
    "y_true4 = valid_ans['不良-著色不佳']\n",
    "y_pred4 = pred_df['不良-著色不佳']\n",
    "f1_4 = f1_score(y_true4, y_pred4, average='micro')\n",
    "f1_4"
   ]
  },
  {
   "cell_type": "code",
   "execution_count": 21,
   "metadata": {},
   "outputs": [
    {
     "data": {
      "text/plain": [
       "0.9538168975821788"
      ]
     },
     "execution_count": 21,
     "metadata": {},
     "output_type": "execute_result"
    }
   ],
   "source": [
    "y_true5 = valid_ans['不良-黑斑病']\n",
    "y_pred5 = pred_df['不良-黑斑病']\n",
    "f1_5 = f1_score(y_true5, y_pred5, average='micro')\n",
    "f1_5"
   ]
  },
  {
   "cell_type": "code",
   "execution_count": 22,
   "metadata": {},
   "outputs": [
    {
     "name": "stdout",
     "output_type": "stream",
     "text": [
      "0.893452866069003\n"
     ]
    }
   ],
   "source": [
    "f1_all = ( 5**(-1) ) * (f1_1 + f1_2 +f1_3 +f1_4 +f1_5)\n",
    "print(f1_all)"
   ]
  },
  {
   "cell_type": "markdown",
   "metadata": {},
   "source": [
    "ai-cup offical way"
   ]
  },
  {
   "cell_type": "code",
   "execution_count": 23,
   "metadata": {},
   "outputs": [],
   "source": [
    "from sklearn.metrics import precision_score\n",
    "from sklearn.metrics import recall_score"
   ]
  },
  {
   "cell_type": "code",
   "execution_count": 24,
   "metadata": {},
   "outputs": [
    {
     "name": "stdout",
     "output_type": "stream",
     "text": [
      "precission 0.9106221135560989\n",
      "recall 0.9106221135560989\n"
     ]
    }
   ],
   "source": [
    "y_true1 = valid_ans['不良-乳汁吸附']\n",
    "y_pred1 = pred_df['不良-乳汁吸附']\n",
    "p1 = precision_score(y_true1, y_pred1, average='micro')\n",
    "r1 = recall_score(y_true1, y_pred1, average='micro')\n",
    "print('precission',p1)\n",
    "print('recall',r1)"
   ]
  },
  {
   "cell_type": "code",
   "execution_count": 25,
   "metadata": {},
   "outputs": [
    {
     "name": "stdout",
     "output_type": "stream",
     "text": [
      "precission 0.9837000814995925\n",
      "recall 0.9837000814995925\n"
     ]
    }
   ],
   "source": [
    "y_true2 = valid_ans['不良-機械傷害']\n",
    "y_pred2 = pred_df['不良-機械傷害']\n",
    "p2 = precision_score(y_true2, y_pred2, average='micro')\n",
    "r2 = recall_score(y_true2, y_pred2, average='micro')\n",
    "print('precission',p2)\n",
    "print('recall',r2)"
   ]
  },
  {
   "cell_type": "code",
   "execution_count": 26,
   "metadata": {},
   "outputs": [
    {
     "name": "stdout",
     "output_type": "stream",
     "text": [
      "precission 0.8280358598207009\n",
      "recall 0.8280358598207009\n"
     ]
    }
   ],
   "source": [
    "y_true3 = valid_ans['不良-炭疽病']\n",
    "y_pred3 = pred_df['不良-炭疽病']\n",
    "p3 = precision_score(y_true3, y_pred3, average='micro')\n",
    "r3 = recall_score(y_true3, y_pred3, average='micro')\n",
    "print('precission',p3)\n",
    "print('recall',r3)"
   ]
  },
  {
   "cell_type": "code",
   "execution_count": 27,
   "metadata": {},
   "outputs": [
    {
     "name": "stdout",
     "output_type": "stream",
     "text": [
      "precission 0.791089377886444\n",
      "recall 0.791089377886444\n"
     ]
    }
   ],
   "source": [
    "y_true4 = valid_ans['不良-著色不佳']\n",
    "y_pred4 = pred_df['不良-著色不佳']\n",
    "p4 = precision_score(y_true4, y_pred4, average='micro')\n",
    "r4 = recall_score(y_true4, y_pred4, average='micro')\n",
    "print('precission',p4)\n",
    "print('recall',r4)"
   ]
  },
  {
   "cell_type": "code",
   "execution_count": 28,
   "metadata": {},
   "outputs": [
    {
     "name": "stdout",
     "output_type": "stream",
     "text": [
      "precission 0.9538168975821788\n",
      "recall 0.9538168975821788\n"
     ]
    }
   ],
   "source": [
    "y_true5 = valid_ans['不良-黑斑病']\n",
    "y_pred5 = pred_df['不良-黑斑病']\n",
    "p5 = precision_score(y_true5, y_pred5, average='micro')\n",
    "r5 = recall_score(y_true5, y_pred5, average='micro')\n",
    "print('precission',p5)\n",
    "print('recall',r5)"
   ]
  },
  {
   "cell_type": "code",
   "execution_count": 29,
   "metadata": {},
   "outputs": [
    {
     "name": "stdout",
     "output_type": "stream",
     "text": [
      "p_ma: 0.893452866069003\n",
      "r_ma: 0.893452866069003\n",
      "f1_ma: 0.893452866069003\n"
     ]
    }
   ],
   "source": [
    "p_ma = (5**(-1)) * (p1 + p2 + p3 + p4 + p5)\n",
    "r_ma = (5**(-1)) * (r1 + r2 + r3 + r4 + r5)\n",
    "f1_ma = 2 * p_ma * r_ma / (p_ma + r_ma) \n",
    "\n",
    "print('p_ma:', p_ma)\n",
    "print('r_ma:', r_ma)\n",
    "print('f1_ma:', f1_ma)"
   ]
  },
  {
   "cell_type": "code",
   "execution_count": null,
   "metadata": {},
   "outputs": [],
   "source": []
  }
 ],
 "metadata": {
  "kernelspec": {
   "display_name": "Python 3",
   "language": "python",
   "name": "python3"
  },
  "language_info": {
   "codemirror_mode": {
    "name": "ipython",
    "version": 3
   },
   "file_extension": ".py",
   "mimetype": "text/x-python",
   "name": "python",
   "nbconvert_exporter": "python",
   "pygments_lexer": "ipython3",
   "version": "3.8.6"
  }
 },
 "nbformat": 4,
 "nbformat_minor": 4
}
