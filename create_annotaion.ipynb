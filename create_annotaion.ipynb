{
 "cells": [
  {
   "cell_type": "markdown",
   "metadata": {},
   "source": [
    "# Create coco annotation(.json)"
   ]
  },
  {
   "cell_type": "markdown",
   "metadata": {},
   "source": [
    "## Data preprocessing"
   ]
  },
  {
   "cell_type": "code",
   "execution_count": 1,
   "metadata": {},
   "outputs": [],
   "source": [
    "import os\n",
    "import pandas as pd\n",
    "from PIL import Image\n",
    "from tqdm.notebook import tqdm"
   ]
  },
  {
   "cell_type": "markdown",
   "metadata": {},
   "source": [
    "將所有 Train set 照片名稱放入list"
   ]
  },
  {
   "cell_type": "markdown",
   "metadata": {},
   "source": [
    "### Training set"
   ]
  },
  {
   "cell_type": "code",
   "execution_count": 2,
   "metadata": {},
   "outputs": [],
   "source": [
    "root= r\".\\C2_TrainDev\"\n",
    "imgs_list = sorted(os.listdir(os.path.join(root, \"Train\")))"
   ]
  },
  {
   "cell_type": "code",
   "execution_count": 3,
   "metadata": {},
   "outputs": [
    {
     "name": "stderr",
     "output_type": "stream",
     "text": [
      "c:\\users\\user\\appdata\\local\\programs\\python\\python38\\lib\\site-packages\\IPython\\core\\interactiveshell.py:3145: DtypeWarning: Columns (30,35,40,45,50,55,60,65,70,75,80,85,90,95,100,105,110,115,120,125,130,135) have mixed types.Specify dtype option on import or set low_memory=False.\n",
      "  has_raised = await self.run_ast_nodes(code_ast.body, cell_name,\n"
     ]
    }
   ],
   "source": [
    "df = pd.read_csv(r\".\\C2_TrainDev\\train.csv\", header=None)"
   ]
  },
  {
   "cell_type": "code",
   "execution_count": 4,
   "metadata": {},
   "outputs": [
    {
     "name": "stdout",
     "output_type": "stream",
     "text": [
      "label: 43370\n",
      "image: 43370\n",
      "xmin: 43370\n",
      "ymin: 43370\n",
      "xmax: 43370\n",
      "ymax: 43370\n"
     ]
    }
   ],
   "source": [
    "import numpy as np\n",
    "label=[]\n",
    "image=[]\n",
    "xmin=[]\n",
    "ymin=[]\n",
    "xmax=[]\n",
    "ymax=[]\n",
    "\n",
    "with open(r'.\\C2_TrainDev\\train.csv', 'r', encoding='utf-8-sig') as fh:\n",
    "  for index,row in enumerate(fh):\n",
    "    row=row.strip()\n",
    "    row=row.split(',')\n",
    "    while True:\n",
    "      if '' in row:\n",
    "        row.remove('')\n",
    "      else:\n",
    "        break\n",
    "\n",
    "    while len(row) > 1:\n",
    "      xmin.append(float(row[1]))\n",
    "      ymin.append(float(row[2]))\n",
    "      xmax.append(float(row[3])+float(row[1]))\n",
    "      ymax.append(float(row[4])+float(row[2]))\n",
    "      label.append(row[5])\n",
    "      for idx in range(5):\n",
    "        row.remove(row[1]) \n",
    "      image.append(row[0])\n",
    "\n",
    "print('label:' ,len(label))\n",
    "print('image:' ,len(image))\n",
    "print('xmin:' ,len(xmin))\n",
    "print('ymin:' ,len(ymin))\n",
    "print('xmax:' ,len(xmax))\n",
    "print('ymax:' ,len(ymax))\n"
   ]
  },
  {
   "cell_type": "code",
   "execution_count": 5,
   "metadata": {},
   "outputs": [
    {
     "data": {
      "text/html": [
       "<div>\n",
       "<style scoped>\n",
       "    .dataframe tbody tr th:only-of-type {\n",
       "        vertical-align: middle;\n",
       "    }\n",
       "\n",
       "    .dataframe tbody tr th {\n",
       "        vertical-align: top;\n",
       "    }\n",
       "\n",
       "    .dataframe thead th {\n",
       "        text-align: right;\n",
       "    }\n",
       "</style>\n",
       "<table border=\"1\" class=\"dataframe\">\n",
       "  <thead>\n",
       "    <tr style=\"text-align: right;\">\n",
       "      <th></th>\n",
       "      <th>image</th>\n",
       "      <th>label</th>\n",
       "      <th>xmin</th>\n",
       "      <th>ymin</th>\n",
       "      <th>xmax</th>\n",
       "      <th>ymax</th>\n",
       "    </tr>\n",
       "  </thead>\n",
       "  <tbody>\n",
       "    <tr>\n",
       "      <th>0</th>\n",
       "      <td>38414.jpg</td>\n",
       "      <td>不良-機械傷害</td>\n",
       "      <td>46.0</td>\n",
       "      <td>146.0</td>\n",
       "      <td>622.0</td>\n",
       "      <td>720.0</td>\n",
       "    </tr>\n",
       "    <tr>\n",
       "      <th>1</th>\n",
       "      <td>03182.jpg</td>\n",
       "      <td>不良-機械傷害</td>\n",
       "      <td>581.0</td>\n",
       "      <td>277.0</td>\n",
       "      <td>678.0</td>\n",
       "      <td>370.0</td>\n",
       "    </tr>\n",
       "    <tr>\n",
       "      <th>2</th>\n",
       "      <td>29863.jpg</td>\n",
       "      <td>不良-機械傷害</td>\n",
       "      <td>514.0</td>\n",
       "      <td>538.0</td>\n",
       "      <td>631.0</td>\n",
       "      <td>682.0</td>\n",
       "    </tr>\n",
       "    <tr>\n",
       "      <th>3</th>\n",
       "      <td>17937.jpg</td>\n",
       "      <td>不良-機械傷害</td>\n",
       "      <td>658.0</td>\n",
       "      <td>263.0</td>\n",
       "      <td>717.0</td>\n",
       "      <td>337.0</td>\n",
       "    </tr>\n",
       "    <tr>\n",
       "      <th>4</th>\n",
       "      <td>17937.jpg</td>\n",
       "      <td>不良-著色不佳</td>\n",
       "      <td>374.0</td>\n",
       "      <td>243.0</td>\n",
       "      <td>983.0</td>\n",
       "      <td>577.0</td>\n",
       "    </tr>\n",
       "    <tr>\n",
       "      <th>...</th>\n",
       "      <td>...</td>\n",
       "      <td>...</td>\n",
       "      <td>...</td>\n",
       "      <td>...</td>\n",
       "      <td>...</td>\n",
       "      <td>...</td>\n",
       "    </tr>\n",
       "    <tr>\n",
       "      <th>43365</th>\n",
       "      <td>06815.jpg</td>\n",
       "      <td>不良-炭疽病</td>\n",
       "      <td>463.0</td>\n",
       "      <td>75.0</td>\n",
       "      <td>1172.0</td>\n",
       "      <td>543.0</td>\n",
       "    </tr>\n",
       "    <tr>\n",
       "      <th>43366</th>\n",
       "      <td>06815.jpg</td>\n",
       "      <td>不良-炭疽病</td>\n",
       "      <td>793.0</td>\n",
       "      <td>686.0</td>\n",
       "      <td>828.0</td>\n",
       "      <td>709.0</td>\n",
       "    </tr>\n",
       "    <tr>\n",
       "      <th>43367</th>\n",
       "      <td>06815.jpg</td>\n",
       "      <td>不良-炭疽病</td>\n",
       "      <td>535.0</td>\n",
       "      <td>540.0</td>\n",
       "      <td>579.0</td>\n",
       "      <td>568.0</td>\n",
       "    </tr>\n",
       "    <tr>\n",
       "      <th>43368</th>\n",
       "      <td>11562.jpg</td>\n",
       "      <td>不良-炭疽病</td>\n",
       "      <td>359.0</td>\n",
       "      <td>434.0</td>\n",
       "      <td>404.0</td>\n",
       "      <td>469.0</td>\n",
       "    </tr>\n",
       "    <tr>\n",
       "      <th>43369</th>\n",
       "      <td>11562.jpg</td>\n",
       "      <td>不良-炭疽病</td>\n",
       "      <td>579.0</td>\n",
       "      <td>149.0</td>\n",
       "      <td>638.0</td>\n",
       "      <td>175.0</td>\n",
       "    </tr>\n",
       "  </tbody>\n",
       "</table>\n",
       "<p>43370 rows × 6 columns</p>\n",
       "</div>"
      ],
      "text/plain": [
       "           image    label   xmin   ymin    xmax   ymax\n",
       "0      38414.jpg  不良-機械傷害   46.0  146.0   622.0  720.0\n",
       "1      03182.jpg  不良-機械傷害  581.0  277.0   678.0  370.0\n",
       "2      29863.jpg  不良-機械傷害  514.0  538.0   631.0  682.0\n",
       "3      17937.jpg  不良-機械傷害  658.0  263.0   717.0  337.0\n",
       "4      17937.jpg  不良-著色不佳  374.0  243.0   983.0  577.0\n",
       "...          ...      ...    ...    ...     ...    ...\n",
       "43365  06815.jpg   不良-炭疽病  463.0   75.0  1172.0  543.0\n",
       "43366  06815.jpg   不良-炭疽病  793.0  686.0   828.0  709.0\n",
       "43367  06815.jpg   不良-炭疽病  535.0  540.0   579.0  568.0\n",
       "43368  11562.jpg   不良-炭疽病  359.0  434.0   404.0  469.0\n",
       "43369  11562.jpg   不良-炭疽病  579.0  149.0   638.0  175.0\n",
       "\n",
       "[43370 rows x 6 columns]"
      ]
     },
     "execution_count": 5,
     "metadata": {},
     "output_type": "execute_result"
    }
   ],
   "source": [
    "traindf = pd.DataFrame({'image':image, 'label':label, 'xmin':xmin, 'ymin':ymin, 'xmax':xmax, 'ymax':ymax  })\n",
    "traindf"
   ]
  },
  {
   "cell_type": "markdown",
   "metadata": {},
   "source": [
    "### Dev set"
   ]
  },
  {
   "cell_type": "code",
   "execution_count": 6,
   "metadata": {},
   "outputs": [
    {
     "name": "stdout",
     "output_type": "stream",
     "text": [
      "label: 6280\n",
      "image: 6280\n",
      "xmin: 6280\n",
      "ymin: 6280\n",
      "xmax: 6280\n",
      "ymax: 6280\n"
     ]
    }
   ],
   "source": [
    "import numpy as np\n",
    "label=[]\n",
    "image=[]\n",
    "xmin=[]\n",
    "ymin=[]\n",
    "xmax=[]\n",
    "ymax=[]\n",
    "\n",
    "with open(r'.\\C2_TrainDev\\dev.csv', 'r', encoding='utf-8-sig') as fh:\n",
    "  for index,row in enumerate(fh):\n",
    "    row=row.strip()\n",
    "    row=row.split(',')\n",
    "    while True:\n",
    "      if '' in row:\n",
    "        row.remove('')\n",
    "      else:\n",
    "        break\n",
    "\n",
    "    while len(row) > 1:\n",
    "      xmin.append(float(row[1]))\n",
    "      ymin.append(float(row[2]))\n",
    "      xmax.append(float(row[3])+float(row[1]))\n",
    "      ymax.append(float(row[4])+float(row[2]))\n",
    "      label.append(row[5])\n",
    "      for idx in range(5):\n",
    "        row.remove(row[1]) \n",
    "      image.append(row[0])\n",
    "\n",
    "print('label:' ,len(label))\n",
    "print('image:' ,len(image))\n",
    "print('xmin:' ,len(xmin))\n",
    "print('ymin:' ,len(ymin))\n",
    "print('xmax:' ,len(xmax))\n",
    "print('ymax:' ,len(ymax))"
   ]
  },
  {
   "cell_type": "code",
   "execution_count": 7,
   "metadata": {},
   "outputs": [
    {
     "data": {
      "text/html": [
       "<div>\n",
       "<style scoped>\n",
       "    .dataframe tbody tr th:only-of-type {\n",
       "        vertical-align: middle;\n",
       "    }\n",
       "\n",
       "    .dataframe tbody tr th {\n",
       "        vertical-align: top;\n",
       "    }\n",
       "\n",
       "    .dataframe thead th {\n",
       "        text-align: right;\n",
       "    }\n",
       "</style>\n",
       "<table border=\"1\" class=\"dataframe\">\n",
       "  <thead>\n",
       "    <tr style=\"text-align: right;\">\n",
       "      <th></th>\n",
       "      <th>image</th>\n",
       "      <th>label</th>\n",
       "      <th>xmin</th>\n",
       "      <th>ymin</th>\n",
       "      <th>xmax</th>\n",
       "      <th>ymax</th>\n",
       "    </tr>\n",
       "  </thead>\n",
       "  <tbody>\n",
       "    <tr>\n",
       "      <th>0</th>\n",
       "      <td>26519.jpg</td>\n",
       "      <td>不良-機械傷害</td>\n",
       "      <td>559.0</td>\n",
       "      <td>772.0</td>\n",
       "      <td>792.0</td>\n",
       "      <td>1185.0</td>\n",
       "    </tr>\n",
       "    <tr>\n",
       "      <th>1</th>\n",
       "      <td>26519.jpg</td>\n",
       "      <td>不良-炭疽病</td>\n",
       "      <td>848.0</td>\n",
       "      <td>539.0</td>\n",
       "      <td>950.0</td>\n",
       "      <td>770.0</td>\n",
       "    </tr>\n",
       "    <tr>\n",
       "      <th>2</th>\n",
       "      <td>26519.jpg</td>\n",
       "      <td>不良-炭疽病</td>\n",
       "      <td>615.0</td>\n",
       "      <td>491.0</td>\n",
       "      <td>700.0</td>\n",
       "      <td>632.0</td>\n",
       "    </tr>\n",
       "    <tr>\n",
       "      <th>3</th>\n",
       "      <td>39995.jpg</td>\n",
       "      <td>不良-機械傷害</td>\n",
       "      <td>376.0</td>\n",
       "      <td>481.0</td>\n",
       "      <td>479.0</td>\n",
       "      <td>569.0</td>\n",
       "    </tr>\n",
       "    <tr>\n",
       "      <th>4</th>\n",
       "      <td>39995.jpg</td>\n",
       "      <td>不良-炭疽病</td>\n",
       "      <td>615.0</td>\n",
       "      <td>612.0</td>\n",
       "      <td>661.0</td>\n",
       "      <td>644.0</td>\n",
       "    </tr>\n",
       "    <tr>\n",
       "      <th>...</th>\n",
       "      <td>...</td>\n",
       "      <td>...</td>\n",
       "      <td>...</td>\n",
       "      <td>...</td>\n",
       "      <td>...</td>\n",
       "      <td>...</td>\n",
       "    </tr>\n",
       "    <tr>\n",
       "      <th>6275</th>\n",
       "      <td>37653.jpg</td>\n",
       "      <td>不良-著色不佳</td>\n",
       "      <td>140.0</td>\n",
       "      <td>553.0</td>\n",
       "      <td>1013.0</td>\n",
       "      <td>1429.0</td>\n",
       "    </tr>\n",
       "    <tr>\n",
       "      <th>6276</th>\n",
       "      <td>37653.jpg</td>\n",
       "      <td>不良-炭疽病</td>\n",
       "      <td>873.0</td>\n",
       "      <td>716.0</td>\n",
       "      <td>962.0</td>\n",
       "      <td>847.0</td>\n",
       "    </tr>\n",
       "    <tr>\n",
       "      <th>6277</th>\n",
       "      <td>37653.jpg</td>\n",
       "      <td>不良-炭疽病</td>\n",
       "      <td>890.0</td>\n",
       "      <td>598.0</td>\n",
       "      <td>918.0</td>\n",
       "      <td>678.0</td>\n",
       "    </tr>\n",
       "    <tr>\n",
       "      <th>6278</th>\n",
       "      <td>27894.jpg</td>\n",
       "      <td>不良-炭疽病</td>\n",
       "      <td>960.0</td>\n",
       "      <td>693.0</td>\n",
       "      <td>1027.0</td>\n",
       "      <td>750.0</td>\n",
       "    </tr>\n",
       "    <tr>\n",
       "      <th>6279</th>\n",
       "      <td>27894.jpg</td>\n",
       "      <td>不良-著色不佳</td>\n",
       "      <td>854.0</td>\n",
       "      <td>332.0</td>\n",
       "      <td>1237.0</td>\n",
       "      <td>871.0</td>\n",
       "    </tr>\n",
       "  </tbody>\n",
       "</table>\n",
       "<p>6280 rows × 6 columns</p>\n",
       "</div>"
      ],
      "text/plain": [
       "          image    label   xmin   ymin    xmax    ymax\n",
       "0     26519.jpg  不良-機械傷害  559.0  772.0   792.0  1185.0\n",
       "1     26519.jpg   不良-炭疽病  848.0  539.0   950.0   770.0\n",
       "2     26519.jpg   不良-炭疽病  615.0  491.0   700.0   632.0\n",
       "3     39995.jpg  不良-機械傷害  376.0  481.0   479.0   569.0\n",
       "4     39995.jpg   不良-炭疽病  615.0  612.0   661.0   644.0\n",
       "...         ...      ...    ...    ...     ...     ...\n",
       "6275  37653.jpg  不良-著色不佳  140.0  553.0  1013.0  1429.0\n",
       "6276  37653.jpg   不良-炭疽病  873.0  716.0   962.0   847.0\n",
       "6277  37653.jpg   不良-炭疽病  890.0  598.0   918.0   678.0\n",
       "6278  27894.jpg   不良-炭疽病  960.0  693.0  1027.0   750.0\n",
       "6279  27894.jpg  不良-著色不佳  854.0  332.0  1237.0   871.0\n",
       "\n",
       "[6280 rows x 6 columns]"
      ]
     },
     "execution_count": 7,
     "metadata": {},
     "output_type": "execute_result"
    }
   ],
   "source": [
    "validdf = pd.DataFrame({'image':image, 'label':label, 'xmin':xmin, 'ymin':ymin, 'xmax':xmax, 'ymax':ymax  })\n",
    "validdf"
   ]
  },
  {
   "cell_type": "markdown",
   "metadata": {},
   "source": [
    "## create Train.json "
   ]
  },
  {
   "cell_type": "code",
   "execution_count": 8,
   "metadata": {},
   "outputs": [],
   "source": [
    "coco_json = {\"info\":{}, \"licenses\":[], \"images\":[], \"annotations\":[], \"categories\":[]}"
   ]
  },
  {
   "cell_type": "code",
   "execution_count": 9,
   "metadata": {},
   "outputs": [
    {
     "data": {
      "text/plain": [
       "{'description': '',\n",
       " 'url': '',\n",
       " 'version': '',\n",
       " 'year': 2020,\n",
       " 'contributor': '',\n",
       " 'date_created': ''}"
      ]
     },
     "execution_count": 9,
     "metadata": {},
     "output_type": "execute_result"
    }
   ],
   "source": [
    "#info\n",
    "coco_json[\"info\"] = {}\n",
    "\n",
    "coco_json[\"info\"] = { \n",
    "    \"description\": \"\",\n",
    "    \"url\": \"\",\n",
    "    \"version\": \"\",\n",
    "    \"year\": 2020,\n",
    "    \"contributor\": \"\",\n",
    "    \"date_created\": \"\"\n",
    "}\n",
    "coco_json[\"info\"]"
   ]
  },
  {
   "cell_type": "code",
   "execution_count": 10,
   "metadata": {},
   "outputs": [
    {
     "data": {
      "text/plain": [
       "[{'id': 1, 'name': None, 'url': None}]"
      ]
     },
     "execution_count": 10,
     "metadata": {},
     "output_type": "execute_result"
    }
   ],
   "source": [
    "#licenses\n",
    "coco_json['licenses'] = []\n",
    "\n",
    "coco_json['licenses'] = [\n",
    "    {\"id\": 1, \"name\": None, \"url\": None}\n",
    "]\n",
    "coco_json['licenses']"
   ]
  },
  {
   "cell_type": "code",
   "execution_count": 11,
   "metadata": {},
   "outputs": [
    {
     "data": {
      "text/plain": [
       "[{'supercategory': 'None', 'id': 1, 'name': 'milk'},\n",
       " {'supercategory': 'None', 'id': 2, 'name': 'machine_damage'},\n",
       " {'supercategory': 'None', 'id': 3, 'name': 'coal'},\n",
       " {'supercategory': 'None', 'id': 4, 'name': 'bad_color'},\n",
       " {'supercategory': 'None', 'id': 5, 'name': 'black_dot'}]"
      ]
     },
     "execution_count": 11,
     "metadata": {},
     "output_type": "execute_result"
    }
   ],
   "source": [
    "#categories\n",
    "coco_json[\"categories\"] = []\n",
    "\n",
    "coco_json[\"categories\"] = [\n",
    "    {\"supercategory\":\"None\", \"id\":1, \"name\":\"milk\"},\n",
    "    {\"supercategory\":\"None\", \"id\":2, \"name\":\"machine_damage\"},\n",
    "    {\"supercategory\":\"None\", \"id\":3, \"name\":'coal'},\n",
    "    {\"supercategory\":\"None\", \"id\":4, \"name\":'bad_color'},\n",
    "    {\"supercategory\":\"None\", \"id\":5, \"name\":'black_dot'},\n",
    "]\n",
    "coco_json[\"categories\"]"
   ]
  },
  {
   "cell_type": "code",
   "execution_count": 12,
   "metadata": {},
   "outputs": [
    {
     "data": {
      "application/vnd.jupyter.widget-view+json": {
       "model_id": "237c5829fca34b6bbb5b4e3ced00c6dc",
       "version_major": 2,
       "version_minor": 0
      },
      "text/plain": [
       "HBox(children=(HTML(value=''), FloatProgress(value=1.0, bar_style='info', layout=Layout(width='20px'), max=1.0…"
      ]
     },
     "metadata": {},
     "output_type": "display_data"
    },
    {
     "name": "stdout",
     "output_type": "stream",
     "text": [
      "\n"
     ]
    }
   ],
   "source": [
    "#image\n",
    "coco_json[\"images\"] = []\n",
    "\n",
    "for time,i in tqdm(enumerate(imgs_list)):\n",
    "    img_path = \"./C2_TrainDev/Train/\" + i\n",
    "    image = Image.open(img_path)\n",
    "    width, height = image.size\n",
    "    data = {\n",
    "        \"id\":time,\n",
    "        \"file_name\":i,\n",
    "        \"width\":width,\n",
    "        \"height\":height,\n",
    "        \"date_captured\":'2020-04-14 01:45:18.567975',\n",
    "        \"license\":1,\n",
    "        \"coco_url\":\"\",\n",
    "        \"flickr_url\":\"\"\n",
    "    }\n",
    "    coco_json[\"images\"].append(data)"
   ]
  },
  {
   "cell_type": "code",
   "execution_count": 14,
   "metadata": {},
   "outputs": [
    {
     "data": {
      "application/vnd.jupyter.widget-view+json": {
       "model_id": "a2716ea2f1f94ace8c4f2d5948866ac3",
       "version_major": 2,
       "version_minor": 0
      },
      "text/plain": [
       "HBox(children=(HTML(value=''), FloatProgress(value=0.0, max=43370.0), HTML(value='')))"
      ]
     },
     "metadata": {},
     "output_type": "display_data"
    },
    {
     "name": "stdout",
     "output_type": "stream",
     "text": [
      "\n"
     ]
    }
   ],
   "source": [
    "#annotations\n",
    "coco_json[\"annotations\"] = []\n",
    "\n",
    "for time in tqdm(range(len(traindf))):\n",
    "    image = traindf.iloc[time]['image']\n",
    "    xmin = traindf.iloc[time]['xmin']\n",
    "    ymin = traindf.iloc[time]['ymin']\n",
    "    xmax = traindf.iloc[time]['xmax']\n",
    "    ymax = traindf.iloc[time]['ymax']\n",
    "    label = traindf.iloc[time]['label']\n",
    "    image_id = imgs_list.index(image)\n",
    "    \n",
    "    if label == \"milk\":\n",
    "        category_id = 1\n",
    "    elif label == 'machine_damage':\n",
    "        category_id = 2\n",
    "    elif label == 'coal':\n",
    "        category_id = 3\n",
    "    elif label == 'bad_color':\n",
    "        category_id = 4\n",
    "    elif label == 'black_dot':\n",
    "        category_id = 5\n",
    "        \n",
    "    data = {\n",
    "        \"id\":time,\n",
    "        \"image_id\":image_id,\n",
    "        \"category_id\":category_id,\n",
    "        \"iscrowd\": 0,\n",
    "        \"area\":(xmax-xmin) * (ymax - ymin),\n",
    "        \"bbox\":[xmin, ymin, xmax-xmin, ymax-ymin],\n",
    "        \"segmentation\":[[xmin, ymin, xmax, ymin, xmax, ymax, xmin, ymax]]          \n",
    "    }\n",
    "    coco_json[\"annotations\"].append(data)\n",
    "    "
   ]
  },
  {
   "cell_type": "markdown",
   "metadata": {},
   "source": [
    "output .json"
   ]
  },
  {
   "cell_type": "code",
   "execution_count": 15,
   "metadata": {},
   "outputs": [],
   "source": [
    "import json\n",
    "with open(\"./annotations/instances_Train.json\", \"w\") as outfile:  \n",
    "    json.dump(coco_json, outfile) "
   ]
  },
  {
   "cell_type": "markdown",
   "metadata": {},
   "source": [
    "## create Dev.json "
   ]
  },
  {
   "cell_type": "code",
   "execution_count": 16,
   "metadata": {},
   "outputs": [],
   "source": [
    "root= r\".\\C2_TrainDev\"\n",
    "imgs_list = sorted(os.listdir(os.path.join(root, \"Dev\")))"
   ]
  },
  {
   "cell_type": "code",
   "execution_count": 17,
   "metadata": {},
   "outputs": [],
   "source": [
    "coco_json = {\"info\":{}, \"licenses\":[], \"images\":[], \"annotations\":[], \"categories\":[]}"
   ]
  },
  {
   "cell_type": "code",
   "execution_count": 18,
   "metadata": {},
   "outputs": [
    {
     "data": {
      "text/plain": [
       "{'description': '',\n",
       " 'url': '',\n",
       " 'version': '',\n",
       " 'year': 2020,\n",
       " 'contributor': '',\n",
       " 'date_created': ''}"
      ]
     },
     "execution_count": 18,
     "metadata": {},
     "output_type": "execute_result"
    }
   ],
   "source": [
    "#info\n",
    "coco_json[\"info\"] = {}\n",
    "\n",
    "coco_json[\"info\"] = { \n",
    "    \"description\": \"\",\n",
    "    \"url\": \"\",\n",
    "    \"version\": \"\",\n",
    "    \"year\": 2020,\n",
    "    \"contributor\": \"\",\n",
    "    \"date_created\": \"\"\n",
    "}\n",
    "coco_json[\"info\"]"
   ]
  },
  {
   "cell_type": "code",
   "execution_count": 19,
   "metadata": {},
   "outputs": [
    {
     "data": {
      "text/plain": [
       "[{'id': 1, 'name': None, 'url': None}]"
      ]
     },
     "execution_count": 19,
     "metadata": {},
     "output_type": "execute_result"
    }
   ],
   "source": [
    "#licenses\n",
    "coco_json['licenses'] = []\n",
    "\n",
    "coco_json['licenses'] = [\n",
    "    {\"id\": 1, \"name\": None, \"url\": None}\n",
    "]\n",
    "coco_json['licenses']"
   ]
  },
  {
   "cell_type": "code",
   "execution_count": 20,
   "metadata": {},
   "outputs": [
    {
     "data": {
      "text/plain": [
       "[{'supercategory': 'None', 'id': 1, 'name': 'milk'},\n",
       " {'supercategory': 'None', 'id': 2, 'name': 'machine_damage'},\n",
       " {'supercategory': 'None', 'id': 3, 'name': 'coal'},\n",
       " {'supercategory': 'None', 'id': 4, 'name': 'bad_color'},\n",
       " {'supercategory': 'None', 'id': 5, 'name': 'black_dot'}]"
      ]
     },
     "execution_count": 20,
     "metadata": {},
     "output_type": "execute_result"
    }
   ],
   "source": [
    "#categories\n",
    "coco_json[\"categories\"] = []\n",
    "\n",
    "coco_json[\"categories\"] = [\n",
    "    {\"supercategory\":\"None\", \"id\":1, \"name\":\"milk\"},\n",
    "    {\"supercategory\":\"None\", \"id\":2, \"name\":\"machine_damage\"},\n",
    "    {\"supercategory\":\"None\", \"id\":3, \"name\":'coal'},\n",
    "    {\"supercategory\":\"None\", \"id\":4, \"name\":'bad_color'},\n",
    "    {\"supercategory\":\"None\", \"id\":5, \"name\":'black_dot'},\n",
    "]\n",
    "coco_json[\"categories\"]"
   ]
  },
  {
   "cell_type": "code",
   "execution_count": 21,
   "metadata": {},
   "outputs": [
    {
     "data": {
      "application/vnd.jupyter.widget-view+json": {
       "model_id": "07bca9ebea19471bb4327b43706c0eda",
       "version_major": 2,
       "version_minor": 0
      },
      "text/plain": [
       "HBox(children=(HTML(value=''), FloatProgress(value=1.0, bar_style='info', layout=Layout(width='20px'), max=1.0…"
      ]
     },
     "metadata": {},
     "output_type": "display_data"
    },
    {
     "name": "stdout",
     "output_type": "stream",
     "text": [
      "\n"
     ]
    }
   ],
   "source": [
    "#image\n",
    "coco_json[\"images\"] = []\n",
    "\n",
    "for time,i in tqdm(enumerate(imgs_list)):\n",
    "    img_path = \"./C2_TrainDev/Dev/\" + i\n",
    "    image = Image.open(img_path)\n",
    "    width, height = image.size\n",
    "    data = {\n",
    "        \"id\":time,\n",
    "        \"file_name\":i,\n",
    "        \"width\":width,\n",
    "        \"height\":height,\n",
    "        \"date_captured\":'2020-04-14 01:45:18.567975',\n",
    "        \"license\":1,\n",
    "        \"coco_url\":\"\",\n",
    "        \"flickr_url\":\"\"\n",
    "    }\n",
    "    coco_json[\"images\"].append(data)"
   ]
  },
  {
   "cell_type": "code",
   "execution_count": 22,
   "metadata": {},
   "outputs": [
    {
     "data": {
      "application/vnd.jupyter.widget-view+json": {
       "model_id": "f9caeb9e2719458d925ab1dee84d98ae",
       "version_major": 2,
       "version_minor": 0
      },
      "text/plain": [
       "HBox(children=(HTML(value=''), FloatProgress(value=0.0, max=6280.0), HTML(value='')))"
      ]
     },
     "metadata": {},
     "output_type": "display_data"
    },
    {
     "name": "stdout",
     "output_type": "stream",
     "text": [
      "\n"
     ]
    }
   ],
   "source": [
    "#annotations\n",
    "coco_json[\"annotations\"] = []\n",
    "\n",
    "for time in tqdm(range(len(validdf))):\n",
    "    image = validdf.iloc[time]['image']\n",
    "    xmin = validdf.iloc[time]['xmin']\n",
    "    ymin = validdf.iloc[time]['ymin']\n",
    "    xmax = validdf.iloc[time]['xmax']\n",
    "    ymax = validdf.iloc[time]['ymax']\n",
    "    label = validdf.iloc[time]['label']\n",
    "    image_id = imgs_list.index(image)\n",
    "    \n",
    "    if label == \"milk\":\n",
    "        category_id = 1\n",
    "    elif label == 'machine_damage':\n",
    "        category_id = 2\n",
    "    elif label == 'coal':\n",
    "        category_id = 3\n",
    "    elif label == 'bad_color':\n",
    "        category_id = 4\n",
    "    elif label == 'black_dot':\n",
    "        category_id = 5\n",
    "        \n",
    "    data = {\n",
    "        \"id\":time,\n",
    "        \"image_id\":image_id,\n",
    "        \"category_id\":category_id,\n",
    "        \"iscrowd\": 0,\n",
    "        \"area\":(xmax-xmin) * (ymax - ymin),\n",
    "        \"bbox\":[xmin, ymin, xmax-xmin, ymax-ymin],\n",
    "        \"segmentation\":[[xmin, ymin, xmax, ymin, xmax, ymax, xmin, ymax]]\n",
    "    }\n",
    "    coco_json[\"annotations\"].append(data)\n",
    "    "
   ]
  },
  {
   "cell_type": "markdown",
   "metadata": {},
   "source": [
    "output .json"
   ]
  },
  {
   "cell_type": "code",
   "execution_count": 24,
   "metadata": {},
   "outputs": [],
   "source": [
    "import json\n",
    "with open(\"./annotations/instances_Dev.json\", \"w\") as outfile:  \n",
    "    json.dump(coco_json, outfile) "
   ]
  },
  {
   "cell_type": "code",
   "execution_count": null,
   "metadata": {},
   "outputs": [],
   "source": []
  }
 ],
 "metadata": {
  "kernelspec": {
   "display_name": "Python 3",
   "language": "python",
   "name": "python3"
  },
  "language_info": {
   "codemirror_mode": {
    "name": "ipython",
    "version": 3
   },
   "file_extension": ".py",
   "mimetype": "text/x-python",
   "name": "python",
   "nbconvert_exporter": "python",
   "pygments_lexer": "ipython3",
   "version": "3.8.6"
  }
 },
 "nbformat": 4,
 "nbformat_minor": 4
}
