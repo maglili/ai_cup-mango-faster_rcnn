{
 "cells": [
  {
   "cell_type": "markdown",
   "metadata": {},
   "source": [
    "# Data Preprocessing"
   ]
  },
  {
   "cell_type": "code",
   "execution_count": 1,
   "metadata": {
    "executionInfo": {
     "elapsed": 516,
     "status": "ok",
     "timestamp": 1609237504019,
     "user": {
      "displayName": "N26091194鄧立昌",
      "photoUrl": "",
      "userId": "09046790946486703509"
     },
     "user_tz": -480
    },
    "id": "B-JVKspZf_DK"
   },
   "outputs": [],
   "source": [
    "import pandas as pd\n",
    "import numpy as np\n",
    "import os\n",
    "from PIL import Image\n",
    "from tqdm.notebook import tqdm\n",
    "import pickle \n",
    "import random\n",
    "\n",
    "import torch\n",
    "import torch.nn.functional as F\n",
    "from torch.utils.data import Dataset, DataLoader\n",
    "import torch.nn as nn\n",
    "from torchvision import transforms\n",
    "import torchvision.models as models"
   ]
  },
  {
   "cell_type": "code",
   "execution_count": 2,
   "metadata": {
    "colab": {
     "base_uri": "https://localhost:8080/"
    },
    "executionInfo": {
     "elapsed": 736,
     "status": "ok",
     "timestamp": 1609237506366,
     "user": {
      "displayName": "N26091194鄧立昌",
      "photoUrl": "",
      "userId": "09046790946486703509"
     },
     "user_tz": -480
    },
    "id": "ZRf-SUFZ1qVZ",
    "outputId": "c6d80f9f-e921-45f7-9f20-6ff100729fc0"
   },
   "outputs": [
    {
     "name": "stdout",
     "output_type": "stream",
     "text": [
      "GPU is avalible.\n",
      "Working on: GeForce GTX 750 Ti\n"
     ]
    }
   ],
   "source": [
    "if torch.cuda.is_available():\n",
    "  device = torch.device('cuda:0')\n",
    "  print('GPU is avalible.')\n",
    "  print('Working on:', torch.cuda.get_device_name())\n",
    "else:\n",
    "  device = torch.device('cpu')\n",
    "  print('GPU is not avalible.')\n",
    "  print('Working on CPU')"
   ]
  },
  {
   "cell_type": "markdown",
   "metadata": {},
   "source": [
    "建立字典，用來儲存圖片中含有的瑕疵"
   ]
  },
  {
   "cell_type": "code",
   "execution_count": 4,
   "metadata": {
    "executionInfo": {
     "elapsed": 1898,
     "status": "ok",
     "timestamp": 1609237515040,
     "user": {
      "displayName": "N26091194鄧立昌",
      "photoUrl": "",
      "userId": "09046790946486703509"
     },
     "user_tz": -480
    },
    "id": "GpjIDzJzg2Cy"
   },
   "outputs": [],
   "source": [
    "train_data = {}\n",
    "with open('./C2_TrainDev/train.csv', 'r', encoding='utf-8-sig') as fh:\n",
    "  for index, row in enumerate(fh):\n",
    "    row=row.strip()\n",
    "    row=row.split(',')\n",
    "    while True:\n",
    "      if '' in row:\n",
    "        row.remove('')\n",
    "      else:\n",
    "        break\n",
    "    \n",
    "    train_data[row[0]]=[]\n",
    "    while len(row) > 1:\n",
    "      train_data[row[0]].append(row[5])\n",
    "      for idx in range(5):\n",
    "        row.remove(row[1])\n",
    "    train_data[row[0]] = set(train_data[row[0]])\n",
    "\n",
    "#===============================================================================\n",
    "dev_data = {}\n",
    "with open('./C2_TrainDev/dev.csv', 'r', encoding='utf-8-sig') as fh:\n",
    "  for index, row in enumerate(fh):\n",
    "    row=row.strip()\n",
    "    row=row.split(',')\n",
    "    while True:\n",
    "      if '' in row:\n",
    "        row.remove('')\n",
    "      else:\n",
    "        break\n",
    "    \n",
    "    dev_data[row[0]]=[]\n",
    "    while len(row) > 1:\n",
    "      dev_data[row[0]].append(row[5])\n",
    "      for idx in range(5):\n",
    "        row.remove(row[1])\n",
    "    dev_data[row[0]] = set(dev_data[row[0]])"
   ]
  },
  {
   "cell_type": "markdown",
   "metadata": {},
   "source": [
    "圖片處理"
   ]
  },
  {
   "cell_type": "code",
   "execution_count": 6,
   "metadata": {
    "executionInfo": {
     "elapsed": 700,
     "status": "ok",
     "timestamp": 1609237532682,
     "user": {
      "displayName": "N26091194鄧立昌",
      "photoUrl": "",
      "userId": "09046790946486703509"
     },
     "user_tz": -480
    },
    "id": "U1Hw7F8rv36r"
   },
   "outputs": [],
   "source": [
    "composed = transforms.Compose([\n",
    "      transforms.ToTensor(),\n",
    "      transforms.Resize((224, 224)),\n",
    "      transforms.RandomRotation(degrees=15),\n",
    "      transforms.RandomHorizontalFlip(p=0.5),\n",
    "      transforms.Normalize(mean=[0.485,0.456,0.406],std=[0.229,0.224,0.225]),\n",
    "      ])"
   ]
  },
  {
   "cell_type": "markdown",
   "metadata": {},
   "source": [
    "Dataset"
   ]
  },
  {
   "cell_type": "code",
   "execution_count": 7,
   "metadata": {
    "executionInfo": {
     "elapsed": 974,
     "status": "ok",
     "timestamp": 1609237538061,
     "user": {
      "displayName": "N26091194鄧立昌",
      "photoUrl": "",
      "userId": "09046790946486703509"
     },
     "user_tz": -480
    },
    "id": "rR610nHlwExk"
   },
   "outputs": [],
   "source": [
    "class Data(Dataset):\n",
    "  def __init__(self, root, folder = 'Train', transforms=None):\n",
    "    self.root = root\n",
    "    self.transforms = transforms\n",
    "    self.folder = folder\n",
    "    self.imgs = sorted(os.listdir(os.path.join(root, self.folder)))\n",
    "\n",
    "  def __getitem__(self, idx):\n",
    "    # load images\n",
    "    img_path = os.path.join(self.root, self.folder, self.imgs[idx])\n",
    "    img = Image.open(img_path).convert(\"RGB\")\n",
    "\n",
    "    label = torch.zeros(1,5)\n",
    "\n",
    "    if self.folder == 'Train':\n",
    "      data = train_data\n",
    "    else:\n",
    "      data = dev_data\n",
    "\n",
    "    if '不良-乳汁吸附' in data[self.imgs[idx]]:\n",
    "      label[0][0] = 1\n",
    "    if '不良-機械傷害' in data[self.imgs[idx]]:\n",
    "      label[0][1] = 1\n",
    "    if '不良-炭疽病' in data[self.imgs[idx]]:\n",
    "      label[0][2] = 1\n",
    "    if '不良-著色不佳' in data[self.imgs[idx]]:\n",
    "      label[0][3] = 1\n",
    "    if '不良-黑斑病' in data[self.imgs[idx]]:\n",
    "      label[0][4] = 1\n",
    "\n",
    "    if self.transforms is not None:\n",
    "      img = self.transforms(img)\n",
    "\n",
    "    return img, label\n",
    "\n",
    "  def __len__(self):\n",
    "    return len(self.imgs)"
   ]
  },
  {
   "cell_type": "code",
   "execution_count": 8,
   "metadata": {
    "executionInfo": {
     "elapsed": 762,
     "status": "ok",
     "timestamp": 1609237542744,
     "user": {
      "displayName": "N26091194鄧立昌",
      "photoUrl": "",
      "userId": "09046790946486703509"
     },
     "user_tz": -480
    },
    "id": "IBzrJQJXwwWs"
   },
   "outputs": [],
   "source": [
    "train_set = Data(root= \"./C2_TrainDev/\", folder = 'Train', transforms=composed)\n",
    "dev_set = Data(root= \"./C2_TrainDev/\", folder = 'Dev', transforms=composed)"
   ]
  },
  {
   "cell_type": "markdown",
   "metadata": {},
   "source": [
    "data loader"
   ]
  },
  {
   "cell_type": "code",
   "execution_count": 9,
   "metadata": {
    "executionInfo": {
     "elapsed": 893,
     "status": "ok",
     "timestamp": 1609237545347,
     "user": {
      "displayName": "N26091194鄧立昌",
      "photoUrl": "",
      "userId": "09046790946486703509"
     },
     "user_tz": -480
    },
    "id": "lWm7__ldzztr"
   },
   "outputs": [],
   "source": [
    "Train_loader = DataLoader(train_set, batch_size=1)\n",
    "Dev_loader = DataLoader(dev_set, batch_size=1)"
   ]
  },
  {
   "cell_type": "markdown",
   "metadata": {},
   "source": [
    "model"
   ]
  },
  {
   "cell_type": "code",
   "execution_count": 10,
   "metadata": {
    "executionInfo": {
     "elapsed": 701,
     "status": "ok",
     "timestamp": 1609237551507,
     "user": {
      "displayName": "N26091194鄧立昌",
      "photoUrl": "",
      "userId": "09046790946486703509"
     },
     "user_tz": -480
    },
    "id": "4xL14VvQ-f1H"
   },
   "outputs": [],
   "source": [
    "class Net(nn.Module):   \n",
    "    # Constructor\n",
    "    def __init__(self):\n",
    "        super(Net, self).__init__()\n",
    "        self.alexnet = models.alexnet(pretrained=True)\n",
    "        self.vgg16 = models.vgg16(pretrained=True)\n",
    "    def forward(self, x):\n",
    "        x1 = self.alexnet(x)\n",
    "        x2 = self.vgg16(x)\n",
    "        x = torch.cat((x1,x2),dim=1)\n",
    "        return x"
   ]
  },
  {
   "cell_type": "code",
   "execution_count": 11,
   "metadata": {
    "executionInfo": {
     "elapsed": 3697,
     "status": "ok",
     "timestamp": 1609237573510,
     "user": {
      "displayName": "N26091194鄧立昌",
      "photoUrl": "",
      "userId": "09046790946486703509"
     },
     "user_tz": -480
    },
    "id": "J7n2fBAb1goy"
   },
   "outputs": [
    {
     "name": "stderr",
     "output_type": "stream",
     "text": [
      "Downloading: \"https://download.pytorch.org/models/alexnet-owt-4df8aa71.pth\" to C:\\Users\\EXIA/.cache\\torch\\hub\\checkpoints\\alexnet-owt-4df8aa71.pth\n"
     ]
    },
    {
     "data": {
      "application/vnd.jupyter.widget-view+json": {
       "model_id": "71109767531e41ffa77ae77ed973f449",
       "version_major": 2,
       "version_minor": 0
      },
      "text/plain": [
       "HBox(children=(HTML(value=''), FloatProgress(value=0.0, max=244418560.0), HTML(value='')))"
      ]
     },
     "metadata": {},
     "output_type": "display_data"
    },
    {
     "name": "stdout",
     "output_type": "stream",
     "text": [
      "\n"
     ]
    },
    {
     "name": "stderr",
     "output_type": "stream",
     "text": [
      "Downloading: \"https://download.pytorch.org/models/vgg16-397923af.pth\" to C:\\Users\\EXIA/.cache\\torch\\hub\\checkpoints\\vgg16-397923af.pth\n"
     ]
    },
    {
     "data": {
      "application/vnd.jupyter.widget-view+json": {
       "model_id": "8485089025274bdc869039921e5d988e",
       "version_major": 2,
       "version_minor": 0
      },
      "text/plain": [
       "HBox(children=(HTML(value=''), FloatProgress(value=0.0, max=553433881.0), HTML(value='')))"
      ]
     },
     "metadata": {},
     "output_type": "display_data"
    },
    {
     "name": "stdout",
     "output_type": "stream",
     "text": [
      "\n"
     ]
    }
   ],
   "source": [
    "model = Net()\n",
    "model.to(device);\n",
    "model.eval();"
   ]
  },
  {
   "cell_type": "markdown",
   "metadata": {},
   "source": [
    "## buliding feature list\n",
    "過程需要約40分鐘"
   ]
  },
  {
   "cell_type": "code",
   "execution_count": 12,
   "metadata": {
    "colab": {
     "base_uri": "https://localhost:8080/",
     "height": 404,
     "referenced_widgets": [
      "cceb8b3c2e7b454b93c1e52df7b1728e",
      "6bcdd3f0a79c43fbab62f03b86c82c33",
      "fb1a8683bbf84c839b7a7d99388fa3a4",
      "89c268e53ce9440d89ad6db63e2c2c1d",
      "103e064630734a00b2d6b37f7b1c23f4",
      "6f24a193a9f94fc3ae543571695f8237",
      "f2355ac806f14ed4a4fa4907da5ef1cd",
      "6b3d053132a948a98f146458543e6a94"
     ]
    },
    "executionInfo": {
     "elapsed": 21813,
     "status": "error",
     "timestamp": 1609237597826,
     "user": {
      "displayName": "N26091194鄧立昌",
      "photoUrl": "",
      "userId": "09046790946486703509"
     },
     "user_tz": -480
    },
    "id": "C-EVA8Sk1h8Z",
    "outputId": "0d931f24-f4f9-4550-e28f-e5129219af70"
   },
   "outputs": [
    {
     "data": {
      "application/vnd.jupyter.widget-view+json": {
       "model_id": "36a626b86a9c47f1ba13ff5ad4e0aad9",
       "version_major": 2,
       "version_minor": 0
      },
      "text/plain": [
       "HBox(children=(HTML(value=''), FloatProgress(value=0.0, max=25768.0), HTML(value='')))"
      ]
     },
     "metadata": {},
     "output_type": "display_data"
    },
    {
     "name": "stdout",
     "output_type": "stream",
     "text": [
      "\n"
     ]
    }
   ],
   "source": [
    "# train_feature = []\n",
    "\n",
    "# for image,label in tqdm(Train_loader):\n",
    "#   image = image.to(device)\n",
    "#   with torch.no_grad():\n",
    "#     out = model(image).to('cpu').numpy()\n",
    "#   train_feature.append((out,label))"
   ]
  },
  {
   "cell_type": "code",
   "execution_count": 22,
   "metadata": {
    "executionInfo": {
     "elapsed": 18064,
     "status": "aborted",
     "timestamp": 1609237597825,
     "user": {
      "displayName": "N26091194鄧立昌",
      "photoUrl": "",
      "userId": "09046790946486703509"
     },
     "user_tz": -480
    },
    "id": "qIywDGeH67ef"
   },
   "outputs": [
    {
     "data": {
      "application/vnd.jupyter.widget-view+json": {
       "model_id": "5a1b4f04bee24d62abe63e5cb82902a6",
       "version_major": 2,
       "version_minor": 0
      },
      "text/plain": [
       "HBox(children=(HTML(value=''), FloatProgress(value=0.0, max=3681.0), HTML(value='')))"
      ]
     },
     "metadata": {},
     "output_type": "display_data"
    },
    {
     "name": "stdout",
     "output_type": "stream",
     "text": [
      "\n"
     ]
    }
   ],
   "source": [
    "# dev_feature = []\n",
    "\n",
    "# for image,label in tqdm(Dev_loader):\n",
    "#   image = image.to(device)\n",
    "#   with torch.no_grad():\n",
    "#     out = model(image).to('cpu').numpy()\n",
    "#   dev_feature.append((out,label))"
   ]
  },
  {
   "cell_type": "markdown",
   "metadata": {},
   "source": [
    "save to pickle"
   ]
  },
  {
   "cell_type": "code",
   "execution_count": null,
   "metadata": {},
   "outputs": [],
   "source": [
    "# with open('./C2_TrainDev/train_feature.pkl', 'wb') as f:\n",
    "#   pickle.dump(train_feature, f)\n",
    "\n",
    "# with open('./C2_TrainDev/dev_feature.pkl', 'wb') as f:\n",
    "#   pickle.dump(dev_feature, f)"
   ]
  },
  {
   "cell_type": "markdown",
   "metadata": {},
   "source": [
    "load from pickle"
   ]
  },
  {
   "cell_type": "code",
   "execution_count": 16,
   "metadata": {},
   "outputs": [],
   "source": [
    "with open('./C2_TrainDev/train_feature.pkl', 'rb') as f:\n",
    "    train_feature = pickle.load(f)\n",
    "    \n",
    "with open('./C2_TrainDev/dev_feature.pkl', 'rb') as f:\n",
    "    dev_feature = pickle.load(f)"
   ]
  },
  {
   "cell_type": "code",
   "execution_count": 23,
   "metadata": {},
   "outputs": [
    {
     "name": "stdout",
     "output_type": "stream",
     "text": [
      "len of train_feature: 25768\n",
      "len of dev_feature: 3681\n"
     ]
    }
   ],
   "source": [
    "print('len of train_feature:',len(train_feature))\n",
    "print('len of dev_feature:',len(dev_feature))"
   ]
  },
  {
   "cell_type": "markdown",
   "metadata": {},
   "source": [
    "## Splitting data into 5 stacks"
   ]
  },
  {
   "cell_type": "markdown",
   "metadata": {},
   "source": [
    "init data"
   ]
  },
  {
   "cell_type": "code",
   "execution_count": 17,
   "metadata": {},
   "outputs": [],
   "source": [
    "c0_pos = []\n",
    "c0_neg = []\n",
    "c1_pos = []\n",
    "c1_neg = []\n",
    "c2_pos = []\n",
    "c2_neg = []\n",
    "c3_pos = []\n",
    "c3_neg = []\n",
    "c4_pos = []\n",
    "c4_neg = []\n",
    "#==========================\n",
    "c0_pos_dev = []\n",
    "c0_neg_dev = []\n",
    "c1_pos_dev = []\n",
    "c1_neg_dev = []\n",
    "c2_pos_dev = []\n",
    "c2_neg_dev = []\n",
    "c3_pos_dev = []\n",
    "c3_neg_dev = []\n",
    "c4_pos_dev = []\n",
    "c4_neg_dev = []"
   ]
  },
  {
   "cell_type": "markdown",
   "metadata": {},
   "source": [
    "splitting data"
   ]
  },
  {
   "cell_type": "code",
   "execution_count": 18,
   "metadata": {},
   "outputs": [],
   "source": [
    "for img, label in train_feature:\n",
    "    if label[0][0][0] == 1:\n",
    "        c0_pos.append((img, 1))\n",
    "    else:\n",
    "        c0_neg.append((img, 0))\n",
    "    \n",
    "    if label[0][0][1] == 1:\n",
    "        c1_pos.append((img, 1))\n",
    "    else:\n",
    "        c1_neg.append((img, 0))\n",
    "\n",
    "    if label[0][0][2] == 1:\n",
    "        c2_pos.append((img, 1))\n",
    "    else:\n",
    "        c2_neg.append((img, 0))\n",
    "        \n",
    "    if label[0][0][3] == 1:\n",
    "        c3_pos.append((img, 1))\n",
    "    else:\n",
    "        c3_neg.append((img, 0))\n",
    "        \n",
    "    if label[0][0][4] == 1:\n",
    "        c4_pos.append((img, 1))\n",
    "    else:\n",
    "        c4_neg.append((img, 0))"
   ]
  },
  {
   "cell_type": "code",
   "execution_count": 19,
   "metadata": {},
   "outputs": [],
   "source": [
    "for img, label in dev_feature:\n",
    "    if label[0][0][0] == 1:\n",
    "        c0_pos_dev.append((img, 1))\n",
    "    else:\n",
    "        c0_neg_dev.append((img, 0))\n",
    "    \n",
    "    if label[0][0][1] == 1:\n",
    "        c1_pos_dev.append((img, 1))\n",
    "    else:\n",
    "        c1_neg_dev.append((img, 0))\n",
    "\n",
    "    if label[0][0][2] == 1:\n",
    "        c2_pos_dev.append((img, 1))\n",
    "    else:\n",
    "        c2_neg_dev.append((img, 0))\n",
    "        \n",
    "    if label[0][0][3] == 1:\n",
    "        c3_pos_dev.append((img, 1))\n",
    "    else:\n",
    "        c3_neg_dev.append((img, 0))\n",
    "        \n",
    "    if label[0][0][4] == 1:\n",
    "        c4_pos_dev.append((img, 1))\n",
    "    else:\n",
    "        c4_neg_dev.append((img, 0))"
   ]
  },
  {
   "cell_type": "code",
   "execution_count": 21,
   "metadata": {},
   "outputs": [
    {
     "name": "stdout",
     "output_type": "stream",
     "text": [
      "Train:\n",
      "c0: pos= 2122   neg= 23646  sum= 25768\n",
      "c1: pos= 419    neg= 25349  sum= 25768\n",
      "c2: pos= 11489  neg= 14279  sum= 25768\n",
      "c3: pos= 14515  neg= 11253  sum= 25768\n",
      "c4: pos= 953    neg= 24815  sum= 25768\n",
      "\n",
      "Dev:\n",
      "c0: pos= 308    neg= 3373   sum= 3681 \n",
      "c1: pos= 60     neg= 3621   sum= 3681 \n",
      "c2: pos= 1765   neg= 1916   sum= 3681 \n",
      "c3: pos= 1938   neg= 1743   sum= 3681 \n",
      "c4: pos= 170    neg= 3511   sum= 3681 \n"
     ]
    }
   ],
   "source": [
    "print('Train:')\n",
    "print('c0: pos= {:<5}  neg= {:<5}  sum= {:<5}'.format(len(c0_pos), len(c0_neg), len(c0_pos)+len(c0_neg)))\n",
    "print('c1: pos= {:<5}  neg= {:<5}  sum= {:<5}'.format(len(c1_pos), len(c1_neg), len(c1_pos)+len(c1_neg)))\n",
    "print('c2: pos= {:<5}  neg= {:<5}  sum= {:<5}'.format(len(c2_pos), len(c2_neg), len(c2_pos)+len(c2_neg)))\n",
    "print('c3: pos= {:<5}  neg= {:<5}  sum= {:<5}'.format(len(c3_pos), len(c3_neg), len(c3_pos)+len(c3_neg)))\n",
    "print('c4: pos= {:<5}  neg= {:<5}  sum= {:<5}'.format(len(c4_pos), len(c4_neg), len(c4_pos)+len(c4_neg)))\n",
    "print()\n",
    "\n",
    "print('Dev:')\n",
    "print('c0: pos= {:<5}  neg= {:<5}  sum= {:<5}'.format(len(c0_pos_dev), len(c0_neg_dev), len(c0_pos_dev)+len(c0_neg_dev)))\n",
    "print('c1: pos= {:<5}  neg= {:<5}  sum= {:<5}'.format(len(c1_pos_dev), len(c1_neg_dev), len(c1_pos_dev)+len(c1_neg_dev)))\n",
    "print('c2: pos= {:<5}  neg= {:<5}  sum= {:<5}'.format(len(c2_pos_dev), len(c2_neg_dev), len(c2_pos_dev)+len(c2_neg_dev)))\n",
    "print('c3: pos= {:<5}  neg= {:<5}  sum= {:<5}'.format(len(c3_pos_dev), len(c3_neg_dev), len(c3_pos_dev)+len(c3_neg_dev)))\n",
    "print('c4: pos= {:<5}  neg= {:<5}  sum= {:<5}'.format(len(c4_pos_dev), len(c4_neg_dev), len(c4_pos_dev)+len(c4_neg_dev)))"
   ]
  },
  {
   "cell_type": "markdown",
   "metadata": {},
   "source": [
    "shuffle the data list"
   ]
  },
  {
   "cell_type": "code",
   "execution_count": 24,
   "metadata": {},
   "outputs": [],
   "source": [
    "for i in [c0_pos, c0_neg, c1_pos, c1_neg, c2_pos, c2_neg, c3_pos, c3_neg, c4_pos, c4_neg]:\n",
    "    random.Random(0).shuffle(i)\n",
    "    \n",
    "for i in [c0_pos_dev, c0_neg_dev, c1_pos_dev, c1_neg_dev, c2_pos_dev, c2_neg_dev, c3_pos_dev, c3_neg_dev, c4_pos_dev, c4_neg_dev]:\n",
    "    random.Random(0).shuffle(i)"
   ]
  },
  {
   "cell_type": "code",
   "execution_count": 25,
   "metadata": {},
   "outputs": [],
   "source": [
    "# 把正負資料合併並打散後，輸出資料\n",
    "\n",
    "def data_list(pos_list, neg_list, train=True):\n",
    "    if train == True:\n",
    "        number = min(len(pos_list), len(neg_list))\n",
    "        pos = pos_list[:number]\n",
    "        neg = neg_list[:number]\n",
    "    else:\n",
    "        pos = pos_list\n",
    "        neg = neg_list\n",
    "    output = pos + neg        \n",
    "    random.Random(0).shuffle(output)\n",
    "    return output"
   ]
  },
  {
   "cell_type": "code",
   "execution_count": 26,
   "metadata": {},
   "outputs": [],
   "source": [
    "c0 = data_list(c0_pos, c0_neg)\n",
    "c1 = data_list(c1_pos, c1_neg)\n",
    "c2 = data_list(c2_pos, c2_neg)\n",
    "c3 = data_list(c3_pos, c3_neg)\n",
    "c4 = data_list(c4_pos, c4_neg)\n",
    "\n",
    "c0_dev = data_list(c0_pos_dev, c0_neg_dev, train=False)\n",
    "c1_dev = data_list(c1_pos_dev, c1_neg_dev, train=False)\n",
    "c2_dev = data_list(c2_pos_dev, c2_neg_dev, train=False)\n",
    "c3_dev = data_list(c3_pos_dev, c3_neg_dev, train=False)\n",
    "c4_dev = data_list(c4_pos_dev, c4_neg_dev, train=False)"
   ]
  },
  {
   "cell_type": "code",
   "execution_count": 27,
   "metadata": {},
   "outputs": [],
   "source": [
    "# 檢查資料數量是否一致\n",
    "\n",
    "def check_balance(data):\n",
    "    pos=0\n",
    "    neg=0\n",
    "    for i,j in data:\n",
    "        if j == 1:\n",
    "            pos += 1\n",
    "        else:\n",
    "            neg += 1\n",
    "    print('pos:',pos)\n",
    "    print('neg:',neg)\n",
    "    print('sum:',pos+neg)"
   ]
  },
  {
   "cell_type": "code",
   "execution_count": 28,
   "metadata": {},
   "outputs": [
    {
     "name": "stdout",
     "output_type": "stream",
     "text": [
      "pos: 2122\n",
      "neg: 2122\n",
      "sum: 4244\n",
      "----------\n",
      "pos: 419\n",
      "neg: 419\n",
      "sum: 838\n",
      "----------\n",
      "pos: 11489\n",
      "neg: 11489\n",
      "sum: 22978\n",
      "----------\n",
      "pos: 11253\n",
      "neg: 11253\n",
      "sum: 22506\n",
      "----------\n",
      "pos: 953\n",
      "neg: 953\n",
      "sum: 1906\n",
      "----------\n"
     ]
    }
   ],
   "source": [
    "for i in [c0, c1, c2, c3, c4]:\n",
    "    check_balance(i)\n",
    "    print('-'*10)"
   ]
  },
  {
   "cell_type": "code",
   "execution_count": 29,
   "metadata": {},
   "outputs": [
    {
     "name": "stdout",
     "output_type": "stream",
     "text": [
      "pos: 308\n",
      "neg: 3373\n",
      "sum: 3681\n",
      "----------\n",
      "pos: 60\n",
      "neg: 3621\n",
      "sum: 3681\n",
      "----------\n",
      "pos: 1765\n",
      "neg: 1916\n",
      "sum: 3681\n",
      "----------\n",
      "pos: 1938\n",
      "neg: 1743\n",
      "sum: 3681\n",
      "----------\n",
      "pos: 170\n",
      "neg: 3511\n",
      "sum: 3681\n",
      "----------\n"
     ]
    }
   ],
   "source": [
    "for i in [c0_dev, c1_dev, c2_dev, c3_dev, c4_dev]:\n",
    "    check_balance(i)\n",
    "    print('-'*10)"
   ]
  },
  {
   "cell_type": "code",
   "execution_count": 30,
   "metadata": {},
   "outputs": [],
   "source": [
    "# 把資料中的 feature 跟 label 分離\n",
    "\n",
    "def split_x_y(data):\n",
    "    X=[]\n",
    "    y=[]\n",
    "    for i,j in data:\n",
    "        X.append(i)\n",
    "        y.append(j)\n",
    "    return X,y"
   ]
  },
  {
   "cell_type": "code",
   "execution_count": 31,
   "metadata": {},
   "outputs": [],
   "source": [
    "c0_X, c0_y = split_x_y(c0)\n",
    "c1_X, c1_y = split_x_y(c1)\n",
    "c2_X, c2_y = split_x_y(c2)\n",
    "c3_X, c3_y = split_x_y(c3)\n",
    "c4_X, c4_y = split_x_y(c4)\n",
    "\n",
    "c0_X_dev, c0_y_dev = split_x_y(c0_dev)\n",
    "c1_X_dev, c1_y_dev = split_x_y(c1_dev)\n",
    "c2_X_dev, c2_y_dev = split_x_y(c2_dev)\n",
    "c3_X_dev, c3_y_dev = split_x_y(c3_dev)\n",
    "c4_X_dev, c4_y_dev = split_x_y(c4_dev)"
   ]
  },
  {
   "cell_type": "markdown",
   "metadata": {},
   "source": [
    "## 儲存訓練資料"
   ]
  },
  {
   "cell_type": "code",
   "execution_count": 32,
   "metadata": {},
   "outputs": [
    {
     "name": "stdout",
     "output_type": "stream",
     "text": [
      "./C2_TrainDev/processed_data/baseline/train/c0_X.pkl\n",
      "./C2_TrainDev/processed_data/baseline/train/c1_X.pkl\n",
      "./C2_TrainDev/processed_data/baseline/train/c2_X.pkl\n",
      "./C2_TrainDev/processed_data/baseline/train/c3_X.pkl\n",
      "./C2_TrainDev/processed_data/baseline/train/c4_X.pkl\n",
      "./C2_TrainDev/processed_data/baseline/train/c0_y.pkl\n",
      "./C2_TrainDev/processed_data/baseline/train/c1_y.pkl\n",
      "./C2_TrainDev/processed_data/baseline/train/c2_y.pkl\n",
      "./C2_TrainDev/processed_data/baseline/train/c3_y.pkl\n",
      "./C2_TrainDev/processed_data/baseline/train/c4_y.pkl\n"
     ]
    }
   ],
   "source": [
    "all_list = [c0_X, c1_X, c2_X, c3_X, c4_X, c0_y, c1_y, c2_y, c3_y, c4_y]\n",
    "all_list_name = ['c0_X', 'c1_X', 'c2_X', 'c3_X', 'c4_X', 'c0_y', 'c1_y', 'c2_y', 'c3_y', 'c4_y']\n",
    "\n",
    "for list_, name in zip(all_list, all_list_name):\n",
    "    root = './C2_TrainDev/processed_data/baseline/train/' + name +'.pkl'\n",
    "    print(root)\n",
    "    with open(root, 'wb') as f:\n",
    "            pickle.dump(list_, f)"
   ]
  },
  {
   "cell_type": "code",
   "execution_count": 33,
   "metadata": {},
   "outputs": [
    {
     "name": "stdout",
     "output_type": "stream",
     "text": [
      "./C2_TrainDev/processed_data/baseline/dev/c0_X_dev.pkl\n",
      "./C2_TrainDev/processed_data/baseline/dev/c1_X_dev.pkl\n",
      "./C2_TrainDev/processed_data/baseline/dev/c2_X_dev.pkl\n",
      "./C2_TrainDev/processed_data/baseline/dev/c3_X_dev.pkl\n",
      "./C2_TrainDev/processed_data/baseline/dev/c4_X_dev.pkl\n",
      "./C2_TrainDev/processed_data/baseline/dev/c0_y_dev.pkl\n",
      "./C2_TrainDev/processed_data/baseline/dev/c1_y_dev.pkl\n",
      "./C2_TrainDev/processed_data/baseline/dev/c2_y_dev.pkl\n",
      "./C2_TrainDev/processed_data/baseline/dev/c3_y_dev.pkl\n",
      "./C2_TrainDev/processed_data/baseline/dev/c4_y_dev.pkl\n"
     ]
    }
   ],
   "source": [
    "all_list = [c0_X_dev, c1_X_dev, c2_X_dev, c3_X_dev, c4_X_dev, c0_y_dev, c1_y_dev, c2_y_dev, c3_y_dev, c4_y_dev]\n",
    "all_list_name = ['c0_X_dev', 'c1_X_dev', 'c2_X_dev', 'c3_X_dev', 'c4_X_dev', 'c0_y_dev', 'c1_y_dev', 'c2_y_dev', 'c3_y_dev', 'c4_y_dev']\n",
    "\n",
    "for list_, name in zip(all_list, all_list_name):\n",
    "    root = './C2_TrainDev/processed_data/baseline/dev/' + name +'.pkl'\n",
    "    print(root)\n",
    "    with open(root, 'wb') as f:\n",
    "            pickle.dump(list_, f)"
   ]
  },
  {
   "cell_type": "code",
   "execution_count": null,
   "metadata": {},
   "outputs": [],
   "source": []
  }
 ],
 "metadata": {
  "colab": {
   "authorship_tag": "ABX9TyMvwsz/XST9+Rg3d3j7xigl",
   "collapsed_sections": [],
   "mount_file_id": "1qr1-3SYksmKrPHzqpwnh3INii8Ol0082",
   "name": "Untitled0.ipynb",
   "provenance": []
  },
  "kernelspec": {
   "display_name": "Python 3",
   "language": "python",
   "name": "python3"
  },
  "language_info": {
   "codemirror_mode": {
    "name": "ipython",
    "version": 3
   },
   "file_extension": ".py",
   "mimetype": "text/x-python",
   "name": "python",
   "nbconvert_exporter": "python",
   "pygments_lexer": "ipython3",
   "version": "3.8.6"
  },
  "widgets": {
   "application/vnd.jupyter.widget-state+json": {
    "103e064630734a00b2d6b37f7b1c23f4": {
     "model_module": "@jupyter-widgets/controls",
     "model_name": "ProgressStyleModel",
     "state": {
      "_model_module": "@jupyter-widgets/controls",
      "_model_module_version": "1.5.0",
      "_model_name": "ProgressStyleModel",
      "_view_count": null,
      "_view_module": "@jupyter-widgets/base",
      "_view_module_version": "1.2.0",
      "_view_name": "StyleView",
      "bar_color": null,
      "description_width": "initial"
     }
    },
    "6b3d053132a948a98f146458543e6a94": {
     "model_module": "@jupyter-widgets/base",
     "model_name": "LayoutModel",
     "state": {
      "_model_module": "@jupyter-widgets/base",
      "_model_module_version": "1.2.0",
      "_model_name": "LayoutModel",
      "_view_count": null,
      "_view_module": "@jupyter-widgets/base",
      "_view_module_version": "1.2.0",
      "_view_name": "LayoutView",
      "align_content": null,
      "align_items": null,
      "align_self": null,
      "border": null,
      "bottom": null,
      "display": null,
      "flex": null,
      "flex_flow": null,
      "grid_area": null,
      "grid_auto_columns": null,
      "grid_auto_flow": null,
      "grid_auto_rows": null,
      "grid_column": null,
      "grid_gap": null,
      "grid_row": null,
      "grid_template_areas": null,
      "grid_template_columns": null,
      "grid_template_rows": null,
      "height": null,
      "justify_content": null,
      "justify_items": null,
      "left": null,
      "margin": null,
      "max_height": null,
      "max_width": null,
      "min_height": null,
      "min_width": null,
      "object_fit": null,
      "object_position": null,
      "order": null,
      "overflow": null,
      "overflow_x": null,
      "overflow_y": null,
      "padding": null,
      "right": null,
      "top": null,
      "visibility": null,
      "width": null
     }
    },
    "6bcdd3f0a79c43fbab62f03b86c82c33": {
     "model_module": "@jupyter-widgets/base",
     "model_name": "LayoutModel",
     "state": {
      "_model_module": "@jupyter-widgets/base",
      "_model_module_version": "1.2.0",
      "_model_name": "LayoutModel",
      "_view_count": null,
      "_view_module": "@jupyter-widgets/base",
      "_view_module_version": "1.2.0",
      "_view_name": "LayoutView",
      "align_content": null,
      "align_items": null,
      "align_self": null,
      "border": null,
      "bottom": null,
      "display": null,
      "flex": null,
      "flex_flow": null,
      "grid_area": null,
      "grid_auto_columns": null,
      "grid_auto_flow": null,
      "grid_auto_rows": null,
      "grid_column": null,
      "grid_gap": null,
      "grid_row": null,
      "grid_template_areas": null,
      "grid_template_columns": null,
      "grid_template_rows": null,
      "height": null,
      "justify_content": null,
      "justify_items": null,
      "left": null,
      "margin": null,
      "max_height": null,
      "max_width": null,
      "min_height": null,
      "min_width": null,
      "object_fit": null,
      "object_position": null,
      "order": null,
      "overflow": null,
      "overflow_x": null,
      "overflow_y": null,
      "padding": null,
      "right": null,
      "top": null,
      "visibility": null,
      "width": null
     }
    },
    "6f24a193a9f94fc3ae543571695f8237": {
     "model_module": "@jupyter-widgets/base",
     "model_name": "LayoutModel",
     "state": {
      "_model_module": "@jupyter-widgets/base",
      "_model_module_version": "1.2.0",
      "_model_name": "LayoutModel",
      "_view_count": null,
      "_view_module": "@jupyter-widgets/base",
      "_view_module_version": "1.2.0",
      "_view_name": "LayoutView",
      "align_content": null,
      "align_items": null,
      "align_self": null,
      "border": null,
      "bottom": null,
      "display": null,
      "flex": null,
      "flex_flow": null,
      "grid_area": null,
      "grid_auto_columns": null,
      "grid_auto_flow": null,
      "grid_auto_rows": null,
      "grid_column": null,
      "grid_gap": null,
      "grid_row": null,
      "grid_template_areas": null,
      "grid_template_columns": null,
      "grid_template_rows": null,
      "height": null,
      "justify_content": null,
      "justify_items": null,
      "left": null,
      "margin": null,
      "max_height": null,
      "max_width": null,
      "min_height": null,
      "min_width": null,
      "object_fit": null,
      "object_position": null,
      "order": null,
      "overflow": null,
      "overflow_x": null,
      "overflow_y": null,
      "padding": null,
      "right": null,
      "top": null,
      "visibility": null,
      "width": null
     }
    },
    "89c268e53ce9440d89ad6db63e2c2c1d": {
     "model_module": "@jupyter-widgets/controls",
     "model_name": "HTMLModel",
     "state": {
      "_dom_classes": [],
      "_model_module": "@jupyter-widgets/controls",
      "_model_module_version": "1.5.0",
      "_model_name": "HTMLModel",
      "_view_count": null,
      "_view_module": "@jupyter-widgets/controls",
      "_view_module_version": "1.5.0",
      "_view_name": "HTMLView",
      "description": "",
      "description_tooltip": null,
      "layout": "IPY_MODEL_6b3d053132a948a98f146458543e6a94",
      "placeholder": "​",
      "style": "IPY_MODEL_f2355ac806f14ed4a4fa4907da5ef1cd",
      "value": " 19/25768 [00:21&lt;8:08:13,  1.14s/it]"
     }
    },
    "cceb8b3c2e7b454b93c1e52df7b1728e": {
     "model_module": "@jupyter-widgets/controls",
     "model_name": "HBoxModel",
     "state": {
      "_dom_classes": [],
      "_model_module": "@jupyter-widgets/controls",
      "_model_module_version": "1.5.0",
      "_model_name": "HBoxModel",
      "_view_count": null,
      "_view_module": "@jupyter-widgets/controls",
      "_view_module_version": "1.5.0",
      "_view_name": "HBoxView",
      "box_style": "",
      "children": [
       "IPY_MODEL_fb1a8683bbf84c839b7a7d99388fa3a4",
       "IPY_MODEL_89c268e53ce9440d89ad6db63e2c2c1d"
      ],
      "layout": "IPY_MODEL_6bcdd3f0a79c43fbab62f03b86c82c33"
     }
    },
    "f2355ac806f14ed4a4fa4907da5ef1cd": {
     "model_module": "@jupyter-widgets/controls",
     "model_name": "DescriptionStyleModel",
     "state": {
      "_model_module": "@jupyter-widgets/controls",
      "_model_module_version": "1.5.0",
      "_model_name": "DescriptionStyleModel",
      "_view_count": null,
      "_view_module": "@jupyter-widgets/base",
      "_view_module_version": "1.2.0",
      "_view_name": "StyleView",
      "description_width": ""
     }
    },
    "fb1a8683bbf84c839b7a7d99388fa3a4": {
     "model_module": "@jupyter-widgets/controls",
     "model_name": "FloatProgressModel",
     "state": {
      "_dom_classes": [],
      "_model_module": "@jupyter-widgets/controls",
      "_model_module_version": "1.5.0",
      "_model_name": "FloatProgressModel",
      "_view_count": null,
      "_view_module": "@jupyter-widgets/controls",
      "_view_module_version": "1.5.0",
      "_view_name": "ProgressView",
      "bar_style": "danger",
      "description": "  0%",
      "description_tooltip": null,
      "layout": "IPY_MODEL_6f24a193a9f94fc3ae543571695f8237",
      "max": 25768,
      "min": 0,
      "orientation": "horizontal",
      "style": "IPY_MODEL_103e064630734a00b2d6b37f7b1c23f4",
      "value": 19
     }
    }
   }
  }
 },
 "nbformat": 4,
 "nbformat_minor": 1
}
